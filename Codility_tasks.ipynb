{
 "cells": [
  {
   "cell_type": "markdown",
   "metadata": {},
   "source": [
    "## Binary Gap\n",
    "\n",
    "A binary gap within a positive integer N is any maximal sequence of consecutive zeros that is surrounded by ones at both ends in the binary representation of N.\n",
    "For example, given N = 1041 the function should return 5, because N has binary representation 10000010001\n"
   ]
  },
  {
   "cell_type": "code",
   "execution_count": 22,
   "metadata": {},
   "outputs": [],
   "source": [
    "def solution(N):\n",
    "    return len(max(format(N, \"b\").strip('0').split('1')))\n",
    "\n",
    "#100%"
   ]
  },
  {
   "cell_type": "code",
   "execution_count": 24,
   "metadata": {},
   "outputs": [
    {
     "data": {
      "text/plain": [
       "5"
      ]
     },
     "execution_count": 24,
     "metadata": {},
     "output_type": "execute_result"
    }
   ],
   "source": [
    "solution(1041)"
   ]
  },
  {
   "cell_type": "markdown",
   "metadata": {},
   "source": [
    "## Reverse Array\n",
    "Given array A consisting of N integers, return the reversed array."
   ]
  },
  {
   "cell_type": "code",
   "execution_count": 53,
   "metadata": {},
   "outputs": [],
   "source": [
    "def reverse_array(some_array):\n",
    "    some_array.reverse()\n",
    "    return some_array"
   ]
  },
  {
   "cell_type": "code",
   "execution_count": 54,
   "metadata": {},
   "outputs": [
    {
     "data": {
      "text/plain": [
       "[7, 6, 5, 4, 3, 2, 1]"
      ]
     },
     "execution_count": 54,
     "metadata": {},
     "output_type": "execute_result"
    }
   ],
   "source": [
    "reverse_array([1, 2, 3, 4, 5, 6, 7])"
   ]
  },
  {
   "cell_type": "markdown",
   "metadata": {},
   "source": [
    "## Cyclic Rotation\n",
    "The goal is to rotate array A K times; that is, each element of A will be shifted to the right K times.\n",
    "For example, given\n",
    "                    A = [3, 8, 9, 7, 6]\n",
    "                    K = 3\n",
    "the function should return [9, 7, 6, 3, 8]"
   ]
  },
  {
   "cell_type": "code",
   "execution_count": 296,
   "metadata": {},
   "outputs": [],
   "source": [
    "# first attempt:\n",
    "\n",
    "def solution(A, K):\n",
    "    # write your code in Python 3.6\n",
    "    B = [0] * len(A)\n",
    "    for i in range(len(A)):\n",
    "        B[i] = A[(i - K)]\n",
    "\n",
    "    return B\n",
    "\n",
    "# 62%"
   ]
  },
  {
   "cell_type": "code",
   "execution_count": 295,
   "metadata": {},
   "outputs": [],
   "source": [
    "# second attempt:\n",
    "\n",
    "def solution(A, K):\n",
    "    # write your code in Python 3.6  \n",
    "    if len(A) <= 1:\n",
    "        return A\n",
    "    else:\n",
    "        K\n",
    "    while K > len(A):\n",
    "        K = K - len(A)\n",
    "    B = [0] * len(A)\n",
    "    for i in range(len(A)):\n",
    "        B[i] = A[(i - K)]\n",
    "        \n",
    "    return B\n",
    "\n",
    "# 100%"
   ]
  },
  {
   "cell_type": "markdown",
   "metadata": {},
   "source": [
    "## Odd Occurrences In Array\n",
    "A non-empty array A consisting of N integers is given. The array contains an odd number of elements, and each element of the array can be paired with another element that has the same value, except for one element that is left unpaired. Write a function that returns the value of the unpaired element.\n",
    "\n"
   ]
  },
  {
   "cell_type": "code",
   "execution_count": 217,
   "metadata": {},
   "outputs": [],
   "source": [
    "from collections import Counter\n",
    "A = [9, 3, 9, 3, 9, 7, 9]\n",
    "def solution(A):\n",
    "    counter_ = dict(Counter(A))\n",
    "    dict_with_solution = {k: v for k, v in counter_.items() if v % 2 != 0}\n",
    "    \n",
    "    return max(dict_with_solution.keys())\n",
    "\n",
    "# 100%"
   ]
  },
  {
   "cell_type": "markdown",
   "metadata": {},
   "source": [
    "## SUM\n",
    "You are given an integer n. In O(1) time complexity count the total of 1 + 2 + . . . + n "
   ]
  },
  {
   "cell_type": "code",
   "execution_count": 227,
   "metadata": {},
   "outputs": [],
   "source": [
    "def model_solution(n):\n",
    "    return n * (n + 1) // 2 # Triangular number formula"
   ]
  },
  {
   "cell_type": "code",
   "execution_count": 228,
   "metadata": {},
   "outputs": [
    {
     "data": {
      "text/plain": [
       "21"
      ]
     },
     "execution_count": 228,
     "metadata": {},
     "output_type": "execute_result"
    }
   ],
   "source": [
    "model_solution(6)"
   ]
  },
  {
   "cell_type": "markdown",
   "metadata": {},
   "source": [
    "## Frog Jmp\n",
    "The frog is currently located at position X and wants to get to a position greater than or equal to Y. The small frog always jumps a fixed distance, D.\n",
    "Write a function, that, given three integers X, Y and D, returns the minimal number of jumps from position X to a position equal to or greater than Y."
   ]
  },
  {
   "cell_type": "code",
   "execution_count": 235,
   "metadata": {},
   "outputs": [],
   "source": [
    "def solution(X, Y, D):\n",
    "    if (Y - X) % D > 0:\n",
    "        return ((Y - X) // D) + 1\n",
    "    else:\n",
    "        return (Y - X) // D\n",
    "    \n",
    "# Task Score 100%, Correctness 100%, Performance 100%"
   ]
  },
  {
   "cell_type": "code",
   "execution_count": 236,
   "metadata": {},
   "outputs": [
    {
     "data": {
      "text/plain": [
       "3"
      ]
     },
     "execution_count": 236,
     "metadata": {},
     "output_type": "execute_result"
    }
   ],
   "source": [
    "solution(10, 85, 30)"
   ]
  },
  {
   "cell_type": "markdown",
   "metadata": {},
   "source": [
    "## Perm Missing Elem\n",
    "An array A consisting of N different integers is given. Exactly one element is missing.Your goal is to find that missing element."
   ]
  },
  {
   "cell_type": "code",
   "execution_count": 294,
   "metadata": {},
   "outputs": [],
   "source": [
    "# first attempt\n",
    "def solution(A):\n",
    "    A.sort()\n",
    "    for i,n in enumerate(A):\n",
    "        if (i+1) != n:\n",
    "            return i+1\n",
    "        else:\n",
    "            #return A[-1]\n",
    "            pass\n",
    "        \n",
    "# Task Score 50%, Correctness 20%, Performance 80%"
   ]
  },
  {
   "cell_type": "code",
   "execution_count": 291,
   "metadata": {},
   "outputs": [],
   "source": [
    "# second attempt\n",
    "def solution(A):\n",
    "    max_ = max(A) # mistake was here, because is guaranteed, that 1 val missed, that's why next version got 100%\n",
    "    sum_expected = max_ * (max_ + 1) // 2\n",
    "    sum_real = sum(A)\n",
    "    return sum_expected - sum_real\n",
    "\n",
    "# Task Score 50%, Correctness 20%, Performance 80%"
   ]
  },
  {
   "cell_type": "code",
   "execution_count": 292,
   "metadata": {},
   "outputs": [],
   "source": [
    "# third attempt\n",
    "def solution(A):\n",
    "    max_ = len(A)+1\n",
    "    sum_expected = max_ * (max_ + 1) // 2\n",
    "    return sum_expected - sum(A)\n",
    "\n",
    "# Task Score 100%, Correctness 100%, Performance 100%"
   ]
  },
  {
   "cell_type": "markdown",
   "metadata": {},
   "source": [
    "## Tape Equilibrium\n",
    "A non-empty array A consisting of N integers is given. Array A represents numbers on a tape.\n",
    "Any integer P splits this tape into two non-empty parts: A[0], A[1], ..., A[P − 1] and A[P], A[P + 1], ..., A[N − 1].\n",
    "Find the difference between the two parts"
   ]
  },
  {
   "cell_type": "code",
   "execution_count": 316,
   "metadata": {},
   "outputs": [],
   "source": [
    "# first attempt\n",
    "def solution(A):\n",
    "    p = len(A)\n",
    "    if p == 1:\n",
    "        return A[0]\n",
    "    else:\n",
    "        min_ = list()\n",
    "        for i in range(1, p):\n",
    "            min_.append(abs(sum(A[:i]) - sum(A[i:])))\n",
    "        return min(min_)\n",
    "    \n",
    "# Task Score 53%, Correctness 100%, Performance 0%"
   ]
  },
  {
   "cell_type": "code",
   "execution_count": 323,
   "metadata": {},
   "outputs": [],
   "source": [
    "# second attempt\n",
    "def solution(A):\n",
    "    p = len(A)\n",
    "    if p == 1:\n",
    "        return A[0]\n",
    "    else:\n",
    "        min_ = float('inf')\n",
    "        for i in range(1, p):\n",
    "            if min_ > abs(sum(A[:i]) - sum(A[i:])):\n",
    "                min_ = abs(sum(A[:i]) - sum(A[i:]))\n",
    "        return min_\n",
    "# Task Score 53%, Correctness 100%, Performance 0%   "
   ]
  },
  {
   "cell_type": "code",
   "execution_count": 349,
   "metadata": {},
   "outputs": [],
   "source": [
    "# third attempt\n",
    "from itertools import accumulate\n",
    "\n",
    "\n",
    "def solution(A):\n",
    "    if len(A) == 1:\n",
    "        return A[0]\n",
    "    else:\n",
    "        sum_ = sum(A)\n",
    "        acc_lst = list(accumulate(A[:-1])) \n",
    "        # acc_lst returns accumulated sums. \n",
    "        # including the last element A[-1] doesn't make sense, becuase it's a difference from sum\n",
    "        \n",
    "        return min([abs(x - (sum_ - x)) for x in acc_lst])\n",
    "    \n",
    "# Task Score 100%, Correctness 100%, Performance 100%"
   ]
  },
  {
   "cell_type": "code",
   "execution_count": 350,
   "metadata": {},
   "outputs": [
    {
     "data": {
      "text/plain": [
       "1"
      ]
     },
     "execution_count": 350,
     "metadata": {},
     "output_type": "execute_result"
    }
   ],
   "source": [
    "solution([3, 1, 2, 4, 3])"
   ]
  },
  {
   "cell_type": "markdown",
   "metadata": {},
   "source": [
    "## Frog River One\n",
    "You are given an array A consisting of N integers representing the falling leaves. A[K] represents the position where one leaf falls at time K, measured in seconds.\n",
    "The goal is to find the earliest time when the frog can jump to the other side of the river. The frog can cross only when leaves appear at every position across the river from 1 to X (that is, we want to find the earliest moment when all the positions from 1 to X are covered by leaves). You may assume that the speed of the current in the river is negligibly small, i.e. the leaves do not change their positions once they fall in the river."
   ]
  },
  {
   "cell_type": "code",
   "execution_count": 373,
   "metadata": {},
   "outputs": [],
   "source": [
    "# first attempt\n",
    "\n",
    "def solution(X, A):\n",
    "    if X > len(A):\n",
    "        return -1\n",
    "    elif sum(list(range(1, X))) == sum(set([x for x in A[: X] if x < A.index(X)])):\n",
    "        return A.index(X)\n",
    "    else:\n",
    "        return -1\n",
    "    \n",
    "# Task Score 9%, Correctness 16%, Performance 0% "
   ]
  },
  {
   "cell_type": "code",
   "execution_count": 393,
   "metadata": {},
   "outputs": [],
   "source": [
    "# second attempt\n",
    "\n",
    "def solution(X, A):\n",
    "    leaves_ready = set()\n",
    "    for i, n in enumerate(A):\n",
    "        leaves_ready.add(n)\n",
    "        if len(leaves_ready) == X:\n",
    "            return i\n",
    "    return -1\n",
    "    \n",
    "# Task Score 100%, Correctness 100%, Performance 100%"
   ]
  },
  {
   "cell_type": "code",
   "execution_count": 394,
   "metadata": {},
   "outputs": [
    {
     "data": {
      "text/plain": [
       "6"
      ]
     },
     "execution_count": 394,
     "metadata": {},
     "output_type": "execute_result"
    }
   ],
   "source": [
    "solution(5, [1, 3, 1, 4, 2, 3, 5, 4])"
   ]
  },
  {
   "cell_type": "markdown",
   "metadata": {},
   "source": [
    "## Max Counters\n",
    "\n",
    "You are given N counters, initially set to 0, and you have two possible operations on them:\n",
    "\n",
    "* increase(X) − counter X is increased by 1,\n",
    "* max counter − all counters are set to the maximum value of any counter.\n",
    "\n",
    "A non-empty array A of M integers is given. This array represents consecutive operations:\n",
    "\n",
    "if A[K] = X, such that 1 ≤ X ≤ N, then operation K is increase(X),\n",
    "if A[K] = N + 1 then operation K is max counter.\n",
    "The goal is to calculate the value of every counter after all operations.\n",
    "\n"
   ]
  },
  {
   "cell_type": "code",
   "execution_count": 398,
   "metadata": {},
   "outputs": [],
   "source": [
    "# first attempt\n",
    "\n",
    "def solution(N, A):\n",
    "    goal = [0] * N\n",
    "    for operation in A:\n",
    "        if 1 <= operation <= N:\n",
    "            goal[operation-1] += 1\n",
    "        else:\n",
    "            goal[:] = [max(goal)] * N\n",
    "    return goal\n",
    "\n",
    "# Task Score 66%, Correctness 100%, Performance 40%\n",
    "# could optimaze via lazy evaluation"
   ]
  },
  {
   "cell_type": "code",
   "execution_count": 399,
   "metadata": {},
   "outputs": [
    {
     "data": {
      "text/plain": [
       "[3, 2, 2, 4, 2]"
      ]
     },
     "execution_count": 399,
     "metadata": {},
     "output_type": "execute_result"
    }
   ],
   "source": [
    "solution(5, [3, 4, 4, 6, 1, 4, 4])"
   ]
  },
  {
   "cell_type": "markdown",
   "metadata": {},
   "source": [
    "## Missing Integer\n",
    "\n",
    "Write a function, that, given an array A of N integers, returns the smallest positive integer (greater than 0) that does not occur in A.\n",
    "For example, given A = [1, 3, 6, 4, 1, 2], the function should return 5.\n"
   ]
  },
  {
   "cell_type": "code",
   "execution_count": 403,
   "metadata": {},
   "outputs": [],
   "source": [
    "def solution(A):\n",
    "    extended_data = range(1, len(A) + 2) # to get plus 1 to length od new data\n",
    "    return min(set(extended_data).difference(set(A)))\n",
    "\n",
    "# Task Score 100%, Correctness 100%, Performance 100%"
   ]
  },
  {
   "cell_type": "code",
   "execution_count": 404,
   "metadata": {},
   "outputs": [
    {
     "name": "stdout",
     "output_type": "stream",
     "text": [
      "{1, 2, 3, 4, 6}\n",
      "{1, 2, 3, 4, 5, 6, 7}\n"
     ]
    },
    {
     "data": {
      "text/plain": [
       "5"
      ]
     },
     "execution_count": 404,
     "metadata": {},
     "output_type": "execute_result"
    }
   ],
   "source": [
    "solution([1, 3, 6, 4, 1, 2])"
   ]
  },
  {
   "cell_type": "code",
   "execution_count": 405,
   "metadata": {},
   "outputs": [
    {
     "name": "stdout",
     "output_type": "stream",
     "text": [
      "{-3, -1}\n",
      "{1, 2, 3}\n"
     ]
    },
    {
     "data": {
      "text/plain": [
       "1"
      ]
     },
     "execution_count": 405,
     "metadata": {},
     "output_type": "execute_result"
    }
   ],
   "source": [
    "solution([-1, -3])"
   ]
  },
  {
   "cell_type": "markdown",
   "metadata": {},
   "source": [
    "## PermCheck\n",
    "A non-empty array A consisting of N integers is given.\n",
    "A permutation is a sequence containing each element from 1 to N once, and only once. The goal is to check whether array A is a permutation.\n",
    "Write a function, that returns 1 if array A is a permutation and 0 if it is not."
   ]
  },
  {
   "cell_type": "code",
   "execution_count": 407,
   "metadata": {},
   "outputs": [],
   "source": [
    "def solution(A):\n",
    "    permutation = set(range(1, len(A) + 1))\n",
    "    if set(A) == permutation:\n",
    "        return 1\n",
    "    else:\n",
    "        return 0\n",
    "    \n",
    "# Task Score 100%, Correctness 100%, Performance 100%"
   ]
  },
  {
   "cell_type": "code",
   "execution_count": 408,
   "metadata": {},
   "outputs": [
    {
     "data": {
      "text/plain": [
       "1"
      ]
     },
     "execution_count": 408,
     "metadata": {},
     "output_type": "execute_result"
    }
   ],
   "source": [
    "solution([4, 1, 3, 2])"
   ]
  },
  {
   "cell_type": "code",
   "execution_count": 409,
   "metadata": {},
   "outputs": [
    {
     "data": {
      "text/plain": [
       "0"
      ]
     },
     "execution_count": 409,
     "metadata": {},
     "output_type": "execute_result"
    }
   ],
   "source": [
    "solution([4, 1, 3])"
   ]
  },
  {
   "cell_type": "markdown",
   "metadata": {},
   "source": [
    "## Count Div\n",
    "Write a function, that, given three integers A, B and K, returns the number of integers within the range [A..B] that are divisible by K\n",
    "For example, for A = 6, B = 11 and K = 2, your function should return 3, because there are three numbers divisible by 2 within the range [6..11], namely 6, 8 and 10."
   ]
  },
  {
   "cell_type": "code",
   "execution_count": 420,
   "metadata": {},
   "outputs": [],
   "source": [
    "def solution(A, B, K):\n",
    "    if A % K == 0:\n",
    "        return ((B - A) // K) + 1\n",
    "    else:\n",
    "        return (B - (A - A % K )) // K\n",
    "    \n",
    "# Task Score 100%, Correctness 100%, Performance 100%"
   ]
  },
  {
   "cell_type": "markdown",
   "metadata": {},
   "source": [
    "## GenomicRangeQuery "
   ]
  },
  {
   "cell_type": "code",
   "execution_count": 467,
   "metadata": {},
   "outputs": [],
   "source": [
    "def solution(S, P, Q):\n",
    "    S = list(S)\n",
    "    answers = []\n",
    "    for i in range(len(P)):\n",
    "        gen = S[P[i]:Q[i] + 1]\n",
    "        if 'A' in gen: answers.append(1)\n",
    "        elif 'C' in gen: answers.append(2)\n",
    "        elif 'G' in gen: answers.append(3)\n",
    "        elif 'T' in gen: answers.append(4)\n",
    "    return answers\n",
    "    \n",
    "# Task Score 62%, Correctness 100%, Performance 0%"
   ]
  },
  {
   "cell_type": "markdown",
   "metadata": {},
   "source": [
    "## MinAvgTwoSlice"
   ]
  },
  {
   "cell_type": "code",
   "execution_count": 485,
   "metadata": {},
   "outputs": [],
   "source": [
    "def solution(A):\n",
    "    index = 0\n",
    "    max_ = (A[0] + A[1]) / 2\n",
    "    for i in range(len(A) - 1):\n",
    "        avg_2 = (A[i] + A[i + 1]) / 2\n",
    "        if avg_2 < max_:\n",
    "            max_ = avg_2\n",
    "            index = i\n",
    "\n",
    "        if i <= len(A) - 3:\n",
    "            avg_3 = (A[i] + A[i + 1] + A[i + 2]) / 3\n",
    "            if avg_3 < max_:\n",
    "                max_ = avg_3\n",
    "                index = i\n",
    "\n",
    "                \n",
    "    return index\n",
    "\n",
    "# Task Score 100%, Correctness 100%, Performance 100%"
   ]
  },
  {
   "cell_type": "code",
   "execution_count": 486,
   "metadata": {},
   "outputs": [
    {
     "data": {
      "text/plain": [
       "1"
      ]
     },
     "execution_count": 486,
     "metadata": {},
     "output_type": "execute_result"
    }
   ],
   "source": [
    "A = [4, 2, 2, 5, 1, 5, 8]\n",
    "solution(A)"
   ]
  },
  {
   "cell_type": "markdown",
   "metadata": {},
   "source": [
    "## PassingCars"
   ]
  },
  {
   "cell_type": "code",
   "execution_count": 489,
   "metadata": {},
   "outputs": [],
   "source": [
    "def solution(A):\n",
    "    e_cars = 0\n",
    "    pairs = 0\n",
    "    for i in range(len(A)):\n",
    "        if A[i] == 0:\n",
    "            e_cars += 1\n",
    "        elif A[i] == 1:\n",
    "            pairs += e_cars\n",
    "        if pairs > 1000000000:\n",
    "            return -1\n",
    "    return pairs\n",
    "\n",
    "# Task Score 100%, Correctness 100%, Performance 100%"
   ]
  },
  {
   "cell_type": "code",
   "execution_count": 490,
   "metadata": {},
   "outputs": [
    {
     "data": {
      "text/plain": [
       "5"
      ]
     },
     "execution_count": 490,
     "metadata": {},
     "output_type": "execute_result"
    }
   ],
   "source": [
    "solution([0, 1, 0, 1, 1])"
   ]
  },
  {
   "cell_type": "markdown",
   "metadata": {},
   "source": [
    "## Distinct\n",
    "Compute number of distinct values in an array."
   ]
  },
  {
   "cell_type": "code",
   "execution_count": 491,
   "metadata": {},
   "outputs": [],
   "source": [
    "def solution(A):\n",
    "    return len(set(A))\n",
    "\n",
    "# Task Score 100%, Correctness 100%, Performance 100%"
   ]
  },
  {
   "cell_type": "code",
   "execution_count": 493,
   "metadata": {},
   "outputs": [
    {
     "data": {
      "text/plain": [
       "3"
      ]
     },
     "execution_count": 493,
     "metadata": {},
     "output_type": "execute_result"
    }
   ],
   "source": [
    "solution([2, 1, 1, 2, 3, 1])"
   ]
  },
  {
   "cell_type": "markdown",
   "metadata": {},
   "source": [
    "## MaxProductOfThree\n",
    "A non-empty array A consisting of N integers is given. The product of triplet (P, Q, R) equates to A[P] * A[Q] * A[R] (0 ≤ P < Q < R < N). Your goal is to find the maximal product of any triplet."
   ]
  },
  {
   "cell_type": "code",
   "execution_count": 505,
   "metadata": {},
   "outputs": [],
   "source": [
    "# first attempt\n",
    "import heapq as h\n",
    "import math\n",
    "\n",
    "def solution(A):\n",
    "    h.heapify(A)\n",
    "    \n",
    "    largest_ = h.nlargest(3, A)\n",
    "    smallest_ = h.nsmallest(2, A) # power of 2 smallest n returns big positive n\n",
    "    \n",
    "    return max(math.prod(largest_), math.prod(smallest_) * largest_[0])\n",
    "\n",
    "# Task Score 0, because math.prod available on python 3.8, but codility use legasy python :("
   ]
  },
  {
   "cell_type": "code",
   "execution_count": 504,
   "metadata": {},
   "outputs": [
    {
     "data": {
      "text/plain": [
       "60"
      ]
     },
     "execution_count": 504,
     "metadata": {},
     "output_type": "execute_result"
    }
   ],
   "source": [
    "solution([-3, 1, 2, -2, 5, 6])"
   ]
  },
  {
   "cell_type": "code",
   "execution_count": 506,
   "metadata": {},
   "outputs": [],
   "source": [
    "# second attempt\n",
    "\n",
    "import heapq as h\n",
    "from functools import reduce\n",
    "\n",
    "def solution(A):\n",
    "    h.heapify(A)\n",
    "    \n",
    "    largest_ = h.nlargest(3, A)\n",
    "    smallest_ = h.nsmallest(2, A) # power of 2 smallest n returns big positive n\n",
    "    \n",
    "    mul_large = reduce((lambda x,y : x * y), largest_)\n",
    "    mul_neg = reduce((lambda x,y : x * y), smallest_)\n",
    "    return max(mul_large, mul_neg * largest_[0])\n",
    "\n",
    "# Task Score 100%, Correctness 100%, Performance 100%"
   ]
  },
  {
   "cell_type": "code",
   "execution_count": 507,
   "metadata": {},
   "outputs": [
    {
     "data": {
      "text/plain": [
       "60"
      ]
     },
     "execution_count": 507,
     "metadata": {},
     "output_type": "execute_result"
    }
   ],
   "source": [
    "solution([-3, 1, 2, -2, 5, 6])"
   ]
  },
  {
   "cell_type": "markdown",
   "metadata": {},
   "source": [
    "## Triangle\n",
    "Determine whether a triangle can be built from a given set of edges."
   ]
  },
  {
   "cell_type": "code",
   "execution_count": 509,
   "metadata": {},
   "outputs": [],
   "source": [
    "def solution(A):\n",
    "    if len(A) < 3:\n",
    "        return 0\n",
    "    A.sort()\n",
    "    for i in range(len(A) - 2):\n",
    "        if A[i] + A[i + 1] > A[i + 2]:\n",
    "            return 1\n",
    "    return 0\n",
    "\n",
    "# Task Score 100%, Correctness 100%, Performance 100%"
   ]
  },
  {
   "cell_type": "code",
   "execution_count": 510,
   "metadata": {},
   "outputs": [
    {
     "data": {
      "text/plain": [
       "1"
      ]
     },
     "execution_count": 510,
     "metadata": {},
     "output_type": "execute_result"
    }
   ],
   "source": [
    "solution([10,2,5,1,8,20])"
   ]
  },
  {
   "cell_type": "markdown",
   "metadata": {},
   "source": [
    "## Brackets\n",
    "Determine whether a given string of parentheses (multiple types) is properly nested.\n"
   ]
  },
  {
   "cell_type": "code",
   "execution_count": 532,
   "metadata": {},
   "outputs": [],
   "source": [
    "def solution(S):\n",
    "    opened, closed, stack_ = {'{':1,'[':2,'(':3}, {'}':1,']':2,')':3}, [] # dict allows as reduce time comlexity\n",
    "    for i in S:\n",
    "        if i in opened:\n",
    "            stack_.append(opened[i])\n",
    "        elif len(stack_) == 0 or closed[i] != stack_.pop():\n",
    "                return 0\n",
    "    return 1 if len(stack_) == 0 else 0\n",
    "\n",
    "# Task Score 100%, Correctness 100%, Performance 100%"
   ]
  },
  {
   "cell_type": "code",
   "execution_count": 533,
   "metadata": {},
   "outputs": [
    {
     "data": {
      "text/plain": [
       "0"
      ]
     },
     "execution_count": 533,
     "metadata": {},
     "output_type": "execute_result"
    }
   ],
   "source": [
    "solution(\"()(()()(((()())(()()))\") "
   ]
  },
  {
   "cell_type": "markdown",
   "metadata": {},
   "source": [
    "## Dominator\n",
    "Find an index of an array such that its value occurs at more than half of indices in the array.\n"
   ]
  },
  {
   "cell_type": "code",
   "execution_count": 536,
   "metadata": {},
   "outputs": [],
   "source": [
    "def solution(A):\n",
    "    A_len = len(A)\n",
    "    candidate = -1\n",
    "    candidate_count = 0\n",
    "    candidate_index = -1\n",
    "    for i in range(A_len):\n",
    "        if candidate_count == 0:\n",
    "            candidate = A[i]\n",
    "            candidate_index = i\n",
    "            candidate_count += 1\n",
    "        else:\n",
    "            if A[i] == candidate:\n",
    "                candidate_count += 1\n",
    "            else:\n",
    "                candidate_count -= 1\n",
    "    if len([n for n in A if n == candidate]) <= A_len//2:\n",
    "        return -1\n",
    "    else:\n",
    "        return candidate_index\n",
    "\n",
    "# Task Score 100%, Correctness 100%, Performance 100%"
   ]
  },
  {
   "cell_type": "code",
   "execution_count": 537,
   "metadata": {},
   "outputs": [
    {
     "data": {
      "text/plain": [
       "6"
      ]
     },
     "execution_count": 537,
     "metadata": {},
     "output_type": "execute_result"
    }
   ],
   "source": [
    "solution([3, 4, 3, 2, 3, -1, 3, 3])"
   ]
  },
  {
   "cell_type": "code",
   "execution_count": null,
   "metadata": {},
   "outputs": [],
   "source": [
    "## Maximum slice problem, exercises from lecture"
   ]
  },
  {
   "cell_type": "code",
   "execution_count": 559,
   "metadata": {},
   "outputs": [],
   "source": [
    "# O(N**3) time complexity\n",
    "def slow_max_slice(A):\n",
    "    n = len(A)\n",
    "    result = 0\n",
    "    for p in range(n):\n",
    "        for q in range(p, n):\n",
    "            sum = 0\n",
    "            for i in range(p, q + 1):\n",
    "                sum += A[i]\n",
    "                result = max(result, sum)\n",
    "    return result"
   ]
  },
  {
   "cell_type": "code",
   "execution_count": 560,
   "metadata": {},
   "outputs": [
    {
     "data": {
      "text/plain": [
       "10"
      ]
     },
     "execution_count": 560,
     "metadata": {},
     "output_type": "execute_result"
    }
   ],
   "source": [
    "slow_max_slice([5, -7, 3, 5, -2, 4, -1])"
   ]
  },
  {
   "cell_type": "code",
   "execution_count": 572,
   "metadata": {},
   "outputs": [],
   "source": [
    "# O(N**2)\n",
    "#there is no need to compute the sum each time from the beginning; we can use the previously calculated sum.\n",
    "def quadratic_max_slice(A):\n",
    "    n = len(A) \n",
    "    result = 0\n",
    "    for p in range(n):\n",
    "        sum = 0\n",
    "        for q in range(p, n):\n",
    "            sum += A[q]\n",
    "            result = max(result, sum)\n",
    "    return result"
   ]
  },
  {
   "cell_type": "code",
   "execution_count": 573,
   "metadata": {},
   "outputs": [
    {
     "data": {
      "text/plain": [
       "10"
      ]
     },
     "execution_count": 573,
     "metadata": {},
     "output_type": "execute_result"
    }
   ],
   "source": [
    "quadratic_max_slice([5, -7, 3, 5, -2, 4, -1])"
   ]
  },
  {
   "cell_type": "code",
   "execution_count": 577,
   "metadata": {},
   "outputs": [],
   "source": [
    "# O(N)\n",
    "def golden_max_slice(A):\n",
    "    max_ending = max_slice = 0\n",
    "    for a in A:\n",
    "        print(a)\n",
    "        max_ending = max(0, max_ending + a)\n",
    "        print('max_ending ' + str(max_ending))\n",
    "        max_slice = max(max_slice, max_ending)\n",
    "        print('max_slice ' + str(max_slice))\n",
    "    return max_slice"
   ]
  },
  {
   "cell_type": "code",
   "execution_count": 578,
   "metadata": {},
   "outputs": [
    {
     "name": "stdout",
     "output_type": "stream",
     "text": [
      "5\n",
      "max_ending 5\n",
      "max_slice 5\n",
      "-7\n",
      "max_ending 0\n",
      "max_slice 5\n",
      "3\n",
      "max_ending 3\n",
      "max_slice 5\n",
      "5\n",
      "max_ending 8\n",
      "max_slice 8\n",
      "-2\n",
      "max_ending 6\n",
      "max_slice 8\n",
      "4\n",
      "max_ending 10\n",
      "max_slice 10\n",
      "-1\n",
      "max_ending 9\n",
      "max_slice 10\n"
     ]
    },
    {
     "data": {
      "text/plain": [
       "10"
      ]
     },
     "execution_count": 578,
     "metadata": {},
     "output_type": "execute_result"
    }
   ],
   "source": [
    "golden_max_slice([5, -7, 3, 5, -2, 4, -1])"
   ]
  },
  {
   "cell_type": "code",
   "execution_count": null,
   "metadata": {},
   "outputs": [],
   "source": [
    "    "
   ]
  },
  {
   "cell_type": "markdown",
   "metadata": {},
   "source": [
    "### drafts"
   ]
  },
  {
   "cell_type": "code",
   "execution_count": null,
   "metadata": {},
   "outputs": [],
   "source": []
  },
  {
   "cell_type": "code",
   "execution_count": null,
   "metadata": {},
   "outputs": [],
   "source": []
  },
  {
   "cell_type": "code",
   "execution_count": 1,
   "metadata": {},
   "outputs": [],
   "source": [
    "a = \"I do not like green eggs and ham. I do not like them Sam-I-am.\""
   ]
  },
  {
   "cell_type": "code",
   "execution_count": 2,
   "metadata": {},
   "outputs": [],
   "source": [
    "b = [len(x.split()) for x in a.split('.')]"
   ]
  },
  {
   "cell_type": "code",
   "execution_count": 3,
   "metadata": {},
   "outputs": [],
   "source": [
    "b.sort()"
   ]
  },
  {
   "cell_type": "code",
   "execution_count": 4,
   "metadata": {},
   "outputs": [
    {
     "data": {
      "text/plain": [
       "6"
      ]
     },
     "execution_count": 4,
     "metadata": {},
     "output_type": "execute_result"
    }
   ],
   "source": [
    "b[1]"
   ]
  },
  {
   "cell_type": "code",
   "execution_count": null,
   "metadata": {},
   "outputs": [],
   "source": [
    "solution(A):"
   ]
  },
  {
   "cell_type": "code",
   "execution_count": null,
   "metadata": {},
   "outputs": [],
   "source": [
    "x+y for x,y i"
   ]
  },
  {
   "cell_type": "code",
   "execution_count": null,
   "metadata": {},
   "outputs": [],
   "source": [
    "from functools import reduce"
   ]
  },
  {
   "cell_type": "code",
   "execution_count": 12,
   "metadata": {},
   "outputs": [],
   "source": [
    "A = [1, 1000, 80, -91]"
   ]
  },
  {
   "cell_type": "code",
   "execution_count": 9,
   "metadata": {},
   "outputs": [
    {
     "data": {
      "text/plain": [
       "'56'"
      ]
     },
     "execution_count": 9,
     "metadata": {},
     "output_type": "execute_result"
    }
   ],
   "source": [
    "str(5) + str(6)"
   ]
  },
  {
   "cell_type": "code",
   "execution_count": 16,
   "metadata": {},
   "outputs": [],
   "source": [
    "sum_ = 0\n",
    "for i in range(1, len(A)):\n",
    "    if len(str(A[i])) == 2 and str(A[i-1]) == 4:\n",
    "        sum += (A[i] + A[i-1])\n",
    "    "
   ]
  },
  {
   "cell_type": "code",
   "execution_count": 40,
   "metadata": {},
   "outputs": [
    {
     "data": {
      "text/plain": [
       "-11"
      ]
     },
     "execution_count": 40,
     "metadata": {},
     "output_type": "execute_result"
    }
   ],
   "source": [
    "sum([x for x in A if len(str(x).strip('-')) == 2])"
   ]
  },
  {
   "cell_type": "code",
   "execution_count": 41,
   "metadata": {},
   "outputs": [],
   "source": [
    "B = [47, 1900, 1, 90, 45]"
   ]
  },
  {
   "cell_type": "code",
   "execution_count": 42,
   "metadata": {},
   "outputs": [],
   "source": [
    "def solution(A):\n",
    "    # write your code in Python 3.6\n",
    "    return sum([x for x in A if len(str(x).strip('-')) == 2])"
   ]
  },
  {
   "cell_type": "code",
   "execution_count": 43,
   "metadata": {},
   "outputs": [
    {
     "data": {
      "text/plain": [
       "182"
      ]
     },
     "execution_count": 43,
     "metadata": {},
     "output_type": "execute_result"
    }
   ],
   "source": [
    "solution(B)"
   ]
  },
  {
   "cell_type": "code",
   "execution_count": null,
   "metadata": {},
   "outputs": [],
   "source": [
    "sorted(mydict)"
   ]
  },
  {
   "cell_type": "code",
   "execution_count": 69,
   "metadata": {},
   "outputs": [],
   "source": [
    "def solution(A, B, P):\n",
    "    dict_ = dict(sorted(zip(A, B)))\n",
    "    for k, v in dict_.items():\n",
    "        if P in v:\n",
    "            return k\n",
    "    return \"NO CONTACT\""
   ]
  },
  {
   "cell_type": "code",
   "execution_count": 70,
   "metadata": {},
   "outputs": [
    {
     "data": {
      "text/plain": [
       "'ann'"
      ]
     },
     "execution_count": 70,
     "metadata": {},
     "output_type": "execute_result"
    }
   ],
   "source": [
    "solution(['sander', 'amy', 'ann', 'michael'], ['123456789', '234567890', '789123456', '123123123'], '1')"
   ]
  },
  {
   "cell_type": "code",
   "execution_count": 44,
   "metadata": {},
   "outputs": [],
   "source": [
    "A = ['pim', 'pom']\n",
    "B = ['9999', \"777888999\"]\n",
    "P = '88999'"
   ]
  },
  {
   "cell_type": "code",
   "execution_count": 45,
   "metadata": {},
   "outputs": [],
   "source": [
    "dict_ = {}"
   ]
  },
  {
   "cell_type": "code",
   "execution_count": 50,
   "metadata": {},
   "outputs": [
    {
     "data": {
      "text/plain": [
       "{('pim', '9999'), ('pom', '777888999')}"
      ]
     },
     "execution_count": 50,
     "metadata": {},
     "output_type": "execute_result"
    }
   ],
   "source": [
    "{x for x in (zip(A, B))}"
   ]
  },
  {
   "cell_type": "code",
   "execution_count": 74,
   "metadata": {},
   "outputs": [
    {
     "data": {
      "text/plain": [
       "{'amy': '234567890',\n",
       " 'ann': '789123456',\n",
       " 'michael': '123123123',\n",
       " 'sander': '123456789'}"
      ]
     },
     "execution_count": 74,
     "metadata": {},
     "output_type": "execute_result"
    }
   ],
   "source": [
    "dictionary = dict(sorted(zip(['sander', 'amy', 'ann', 'michael'], ['123456789', '234567890', '789123456', '123123123'])))\n",
    "dictionary"
   ]
  },
  {
   "cell_type": "code",
   "execution_count": 75,
   "metadata": {},
   "outputs": [
    {
     "data": {
      "text/plain": [
       "{'sander': '123456789',\n",
       " 'amy': '234567890',\n",
       " 'ann': '789123456',\n",
       " 'michael': '123123123'}"
      ]
     },
     "execution_count": 75,
     "metadata": {},
     "output_type": "execute_result"
    }
   ],
   "source": [
    "dictionary = dict(zip(['sander', 'amy', 'ann', 'michael'], ['123456789', '234567890', '789123456', '123123123']))\n",
    "dictionary"
   ]
  },
  {
   "cell_type": "code",
   "execution_count": 56,
   "metadata": {},
   "outputs": [],
   "source": [
    "if P in dictionary.values():\n",
    "    print(P)"
   ]
  },
  {
   "cell_type": "code",
   "execution_count": 59,
   "metadata": {},
   "outputs": [
    {
     "data": {
      "text/plain": [
       "False"
      ]
     },
     "execution_count": 59,
     "metadata": {},
     "output_type": "execute_result"
    }
   ],
   "source": [
    "'999' in dictionary.values()"
   ]
  },
  {
   "cell_type": "code",
   "execution_count": 62,
   "metadata": {},
   "outputs": [
    {
     "name": "stdout",
     "output_type": "stream",
     "text": [
      "pom\n"
     ]
    }
   ],
   "source": [
    "for k, v in dictionary.items():\n",
    "    if P in v:\n",
    "        print(k)"
   ]
  },
  {
   "cell_type": "markdown",
   "metadata": {},
   "source": [
    "You have the mean of all rolled results, so sum of all rolled results is M * (A.Length +F);\n",
    "Then you know the sum of F forgotten rolls. (S= total - sum(A))\n",
    "The problem becomes find all possible sum of F numbers, each one <6, total = S. This can be solved by dynamic programming."
   ]
  },
  {
   "cell_type": "code",
   "execution_count": 78,
   "metadata": {},
   "outputs": [
    {
     "data": {
      "text/plain": [
       "24"
      ]
     },
     "execution_count": 78,
     "metadata": {},
     "output_type": "execute_result"
    }
   ],
   "source": [
    "sum_ = M * (len(A) + F)\n",
    "sum_"
   ]
  },
  {
   "cell_type": "code",
   "execution_count": 86,
   "metadata": {},
   "outputs": [
    {
     "data": {
      "text/plain": [
       "12"
      ]
     },
     "execution_count": 86,
     "metadata": {},
     "output_type": "execute_result"
    }
   ],
   "source": [
    "res_ = sum_ - sum(A)\n",
    "res_"
   ]
  },
  {
   "cell_type": "code",
   "execution_count": 105,
   "metadata": {},
   "outputs": [],
   "source": [
    "A_2 = [1, 5, 6]\n",
    "F_2 = 4 # num forgotten\n",
    "M_2 = 3 # mean"
   ]
  },
  {
   "cell_type": "code",
   "execution_count": 106,
   "metadata": {},
   "outputs": [
    {
     "data": {
      "text/plain": [
       "13"
      ]
     },
     "execution_count": 106,
     "metadata": {},
     "output_type": "execute_result"
    }
   ],
   "source": [
    "sum_2 = M_2 * (len(A_2)) + F_2 # num forgotten\n",
    "sum_2"
   ]
  },
  {
   "cell_type": "code",
   "execution_count": 107,
   "metadata": {},
   "outputs": [
    {
     "data": {
      "text/plain": [
       "12"
      ]
     },
     "execution_count": 107,
     "metadata": {},
     "output_type": "execute_result"
    }
   ],
   "source": [
    "res_2 = sum_2 - sum(A_2)\n",
    "res_"
   ]
  },
  {
   "cell_type": "code",
   "execution_count": 111,
   "metadata": {},
   "outputs": [
    {
     "data": {
      "text/plain": [
       "[0, 0, 0, 0]"
      ]
     },
     "execution_count": 111,
     "metadata": {},
     "output_type": "execute_result"
    }
   ],
   "source": [
    "a = [0]*4\n",
    "a"
   ]
  },
  {
   "cell_type": "code",
   "execution_count": null,
   "metadata": {},
   "outputs": [],
   "source": []
  },
  {
   "cell_type": "code",
   "execution_count": null,
   "metadata": {},
   "outputs": [],
   "source": [
    " while(F--){\n",
    "       ans.push_back(sum/(F+1));\n",
    "       sum-=sum/(F+1);   "
   ]
  },
  {
   "cell_type": "code",
   "execution_count": null,
   "metadata": {},
   "outputs": [],
   "source": [
    "sum_2 / "
   ]
  },
  {
   "cell_type": "code",
   "execution_count": 176,
   "metadata": {},
   "outputs": [],
   "source": [
    "def find_all_outcomes(rolled_digits, res_, desired_output=[], list_return = [], forgotten_nums = 4, ):\n",
    "    s = sum(desired_output)\n",
    "    \n",
    "    # check if the partial sum is equals to target\n",
    "    if s == res_ and len(desired_output) == forgotten_nums:\n",
    "\n",
    "        print(\"sum(%s)=%s\" % (desired_output, res_))\n",
    "        list_return.append(list(desired_output))\n",
    "        print(list_return)\n",
    "    if s >= res_:\n",
    "        return [0,]\n",
    "\n",
    "    for i in range(len(rolled_digits)):\n",
    "        n = rolled_digits[i]\n",
    "        residuals = rolled_digits[i+1:]\n",
    "        find_all_outcomes(residuals, res_, desired_output + [n], list_return) "
   ]
  },
  {
   "cell_type": "code",
   "execution_count": 177,
   "metadata": {},
   "outputs": [
    {
     "name": "stdout",
     "output_type": "stream",
     "text": [
      "sum([1, 2, 3, 6])=12\n",
      "[[1, 2, 3, 6]]\n",
      "sum([1, 2, 4, 5])=12\n",
      "[[1, 2, 3, 6], [1, 2, 4, 5]]\n"
     ]
    }
   ],
   "source": [
    "find_all_outcomes([1,2,3,4,5,6], 12, forgotten_nums = 4)"
   ]
  },
  {
   "cell_type": "code",
   "execution_count": 165,
   "metadata": {},
   "outputs": [],
   "source": [
    "v = list()\n",
    "v1 = [1, 2, ]\n",
    "v2 = [3213, 2, 3]\n",
    "v1.append(v2)"
   ]
  },
  {
   "cell_type": "code",
   "execution_count": null,
   "metadata": {},
   "outputs": [],
   "source": []
  },
  {
   "cell_type": "code",
   "execution_count": null,
   "metadata": {},
   "outputs": [],
   "source": []
  },
  {
   "cell_type": "code",
   "execution_count": 166,
   "metadata": {},
   "outputs": [
    {
     "data": {
      "text/plain": [
       "[1, 2, [3213, 2, 3]]"
      ]
     },
     "execution_count": 166,
     "metadata": {},
     "output_type": "execute_result"
    }
   ],
   "source": [
    "v1"
   ]
  },
  {
   "cell_type": "code",
   "execution_count": 159,
   "metadata": {},
   "outputs": [],
   "source": [
    "my_list = ['geeks', 'for', 'geeks'] \n",
    "another_list = [6, 0, 4, 1] \n",
    "my_list.append(another_list)"
   ]
  },
  {
   "cell_type": "code",
   "execution_count": 160,
   "metadata": {},
   "outputs": [
    {
     "data": {
      "text/plain": [
       "['geeks', 'for', 'geeks', [6, 0, 4, 1]]"
      ]
     },
     "execution_count": 160,
     "metadata": {},
     "output_type": "execute_result"
    }
   ],
   "source": [
    "my_list"
   ]
  },
  {
   "cell_type": "code",
   "execution_count": null,
   "metadata": {},
   "outputs": [],
   "source": []
  },
  {
   "cell_type": "code",
   "execution_count": null,
   "metadata": {},
   "outputs": [],
   "source": []
  },
  {
   "cell_type": "code",
   "execution_count": 218,
   "metadata": {},
   "outputs": [],
   "source": [
    "def find_all_outcomes(rolled_digits, res_, F, desired_output=[], list_return = []):\n",
    "    s = sum(desired_output)\n",
    "    \n",
    "    if s == res_ and len(desired_output) == F:\n",
    "        list_return.append(list(desired_output))\n",
    "        return list_return\n",
    "        \n",
    "    if s >= res_:\n",
    "        return [0,]\n",
    "\n",
    "    for i in range(len(rolled_digits)):\n",
    "        n = rolled_digits[i]\n",
    "        residuals = rolled_digits\n",
    "        find_all_outcomes(residuals, res_, F, desired_output + [n], list_return)"
   ]
  },
  {
   "cell_type": "code",
   "execution_count": 214,
   "metadata": {},
   "outputs": [],
   "source": [
    "A = [3, 2, 4, 3]\n",
    "F = 2 # num forgotten\n",
    "M = 4 # mean"
   ]
  },
  {
   "cell_type": "code",
   "execution_count": 215,
   "metadata": {},
   "outputs": [
    {
     "data": {
      "text/plain": [
       "24"
      ]
     },
     "execution_count": 215,
     "metadata": {},
     "output_type": "execute_result"
    }
   ],
   "source": [
    "sum_ = M * (len(A) + F)\n",
    "sum_"
   ]
  },
  {
   "cell_type": "code",
   "execution_count": 216,
   "metadata": {},
   "outputs": [
    {
     "data": {
      "text/plain": [
       "12"
      ]
     },
     "execution_count": 216,
     "metadata": {},
     "output_type": "execute_result"
    }
   ],
   "source": [
    "res_ = sum_ - sum(A)\n",
    "res_"
   ]
  },
  {
   "cell_type": "code",
   "execution_count": 219,
   "metadata": {},
   "outputs": [
    {
     "name": "stdout",
     "output_type": "stream",
     "text": [
      "[[6, 6]]\n"
     ]
    }
   ],
   "source": [
    "find_all_outcomes([1,2,3,4,5,6], res_,  F, desired_output=[], list_return = [])"
   ]
  },
  {
   "cell_type": "code",
   "execution_count": 202,
   "metadata": {},
   "outputs": [],
   "source": [
    "find_all_outcomes([1,2,3,4,5,6], 12, 2)"
   ]
  },
  {
   "cell_type": "code",
   "execution_count": 220,
   "metadata": {},
   "outputs": [
    {
     "data": {
      "text/plain": [
       "-4"
      ]
     },
     "execution_count": 220,
     "metadata": {},
     "output_type": "execute_result"
    }
   ],
   "source": [
    "-11 // 3"
   ]
  },
  {
   "cell_type": "code",
   "execution_count": 222,
   "metadata": {},
   "outputs": [
    {
     "data": {
      "text/plain": [
       "3"
      ]
     },
     "execution_count": 222,
     "metadata": {},
     "output_type": "execute_result"
    }
   ],
   "source": [
    "11 // 3"
   ]
  },
  {
   "cell_type": "code",
   "execution_count": 229,
   "metadata": {},
   "outputs": [
    {
     "data": {
      "text/plain": [
       "-4"
      ]
     },
     "execution_count": 229,
     "metadata": {},
     "output_type": "execute_result"
    }
   ],
   "source": [
    "import math\n",
    "math.floor(-11/3)"
   ]
  },
  {
   "cell_type": "code",
   "execution_count": 228,
   "metadata": {},
   "outputs": [
    {
     "data": {
      "text/plain": [
       "-3.6666666666666665"
      ]
     },
     "execution_count": 228,
     "metadata": {},
     "output_type": "execute_result"
    }
   ],
   "source": [
    "-11/ 3"
   ]
  },
  {
   "cell_type": "code",
   "execution_count": null,
   "metadata": {},
   "outputs": [],
   "source": []
  },
  {
   "cell_type": "code",
   "execution_count": 97,
   "metadata": {},
   "outputs": [
    {
     "name": "stdout",
     "output_type": "stream",
     "text": [
      "i 1\n",
      "3\n",
      "i 2\n",
      "5\n",
      "i 3\n",
      "7\n",
      "i 4\n",
      "9\n",
      "i 5\n",
      "11\n",
      "i 6\n",
      "13\n"
     ]
    }
   ],
   "source": [
    "for i in list(range(1, res_)):\n",
    "    if i <= 6:\n",
    "        print(\"i \" + str(i))\n",
    "        print(i + i+1)"
   ]
  },
  {
   "cell_type": "code",
   "execution_count": 100,
   "metadata": {},
   "outputs": [
    {
     "data": {
      "text/plain": [
       "[1, 2, 3, 4, 5, 6]"
      ]
     },
     "execution_count": 100,
     "metadata": {},
     "output_type": "execute_result"
    }
   ],
   "source": [
    "a = [x for x in range(1,7)]"
   ]
  },
  {
   "cell_type": "code",
   "execution_count": 99,
   "metadata": {},
   "outputs": [
    {
     "data": {
      "text/plain": [
       "range(1, 7)"
      ]
     },
     "execution_count": 99,
     "metadata": {},
     "output_type": "execute_result"
    }
   ],
   "source": [
    "x"
   ]
  },
  {
   "cell_type": "code",
   "execution_count": 101,
   "metadata": {},
   "outputs": [
    {
     "data": {
      "text/plain": [
       "0"
      ]
     },
     "execution_count": 101,
     "metadata": {},
     "output_type": "execute_result"
    }
   ],
   "source": [
    "12%6"
   ]
  },
  {
   "cell_type": "code",
   "execution_count": 102,
   "metadata": {},
   "outputs": [
    {
     "data": {
      "text/plain": [
       "5"
      ]
     },
     "execution_count": 102,
     "metadata": {},
     "output_type": "execute_result"
    }
   ],
   "source": [
    "11%6"
   ]
  },
  {
   "cell_type": "code",
   "execution_count": null,
   "metadata": {},
   "outputs": [],
   "source": [
    "x + 12%6"
   ]
  },
  {
   "cell_type": "code",
   "execution_count": null,
   "metadata": {},
   "outputs": [],
   "source": []
  },
  {
   "cell_type": "code",
   "execution_count": null,
   "metadata": {},
   "outputs": [],
   "source": []
  },
  {
   "cell_type": "code",
   "execution_count": null,
   "metadata": {},
   "outputs": [],
   "source": []
  },
  {
   "cell_type": "code",
   "execution_count": null,
   "metadata": {},
   "outputs": [],
   "source": []
  },
  {
   "cell_type": "code",
   "execution_count": null,
   "metadata": {},
   "outputs": [],
   "source": []
  },
  {
   "cell_type": "code",
   "execution_count": null,
   "metadata": {},
   "outputs": [],
   "source": []
  },
  {
   "cell_type": "code",
   "execution_count": null,
   "metadata": {},
   "outputs": [],
   "source": []
  },
  {
   "cell_type": "markdown",
   "metadata": {},
   "source": [
    "## other draft"
   ]
  },
  {
   "cell_type": "code",
   "execution_count": null,
   "metadata": {},
   "outputs": [],
   "source": []
  },
  {
   "cell_type": "code",
   "execution_count": 1,
   "metadata": {},
   "outputs": [],
   "source": [
    "# dickts\n",
    "info = {'personal_data':\n",
    "         {'name': 'Lauren',\n",
    "          'age': 20,\n",
    "          'major': 'Information Science',\n",
    "          'physical_features':\n",
    "             {'color': {'eye': 'blue',\n",
    "                        'hair': 'brown'},\n",
    "              'height': \"5'8\"}\n",
    "         },\n",
    "       'other':\n",
    "         {'favorite_colors': ['purple', 'green', 'blue'],\n",
    "          'interested_in': ['social media', 'intellectual property', 'copyright', 'music', 'books']\n",
    "         }\n",
    "      }\n",
    "\n"
   ]
  },
  {
   "cell_type": "code",
   "execution_count": 6,
   "metadata": {},
   "outputs": [
    {
     "data": {
      "text/plain": [
       "{'eye': 'blue', 'hair': 'brown'}"
      ]
     },
     "execution_count": 6,
     "metadata": {},
     "output_type": "execute_result"
    }
   ],
   "source": [
    "color = info['personal_data']['physical_features']['color']\n",
    "color"
   ]
  },
  {
   "cell_type": "code",
   "execution_count": null,
   "metadata": {},
   "outputs": [],
   "source": [
    "#"
   ]
  }
 ],
 "metadata": {
  "kernelspec": {
   "display_name": "Python 3",
   "language": "python",
   "name": "python3"
  },
  "language_info": {
   "codemirror_mode": {
    "name": "ipython",
    "version": 3
   },
   "file_extension": ".py",
   "mimetype": "text/x-python",
   "name": "python",
   "nbconvert_exporter": "python",
   "pygments_lexer": "ipython3",
   "version": "3.8.6"
  }
 },
 "nbformat": 4,
 "nbformat_minor": 4
}
