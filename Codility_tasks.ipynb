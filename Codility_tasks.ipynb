{
 "cells": [
  {
   "cell_type": "markdown",
   "metadata": {},
   "source": [
    "## Binary Gap\n",
    "\n",
    "A binary gap within a positive integer N is any maximal sequence of consecutive zeros that is surrounded by ones at both ends in the binary representation of N.\n",
    "For example, given N = 1041 the function should return 5, because N has binary representation 10000010001\n"
   ]
  },
  {
   "cell_type": "code",
   "execution_count": 22,
   "metadata": {},
   "outputs": [],
   "source": [
    "def solution(N):\n",
    "    return len(max(format(N, \"b\").strip('0').split('1')))\n",
    "\n",
    "#100%"
   ]
  },
  {
   "cell_type": "code",
   "execution_count": 24,
   "metadata": {},
   "outputs": [
    {
     "data": {
      "text/plain": [
       "5"
      ]
     },
     "execution_count": 24,
     "metadata": {},
     "output_type": "execute_result"
    }
   ],
   "source": [
    "solution(1041)"
   ]
  },
  {
   "cell_type": "markdown",
   "metadata": {},
   "source": [
    "## Reverse Array\n",
    "Given array A consisting of N integers, return the reversed array."
   ]
  },
  {
   "cell_type": "code",
   "execution_count": 53,
   "metadata": {},
   "outputs": [],
   "source": [
    "def reverse_array(some_array):\n",
    "    some_array.reverse()\n",
    "    return some_array"
   ]
  },
  {
   "cell_type": "code",
   "execution_count": 54,
   "metadata": {},
   "outputs": [
    {
     "data": {
      "text/plain": [
       "[7, 6, 5, 4, 3, 2, 1]"
      ]
     },
     "execution_count": 54,
     "metadata": {},
     "output_type": "execute_result"
    }
   ],
   "source": [
    "reverse_array([1, 2, 3, 4, 5, 6, 7])"
   ]
  },
  {
   "cell_type": "markdown",
   "metadata": {},
   "source": [
    "## Cyclic Rotation\n",
    "The goal is to rotate array A K times; that is, each element of A will be shifted to the right K times.\n",
    "For example, given\n",
    "                    A = [3, 8, 9, 7, 6]\n",
    "                    K = 3\n",
    "the function should return [9, 7, 6, 3, 8]"
   ]
  },
  {
   "cell_type": "code",
   "execution_count": 296,
   "metadata": {},
   "outputs": [],
   "source": [
    "# first attempt:\n",
    "\n",
    "def solution(A, K):\n",
    "    # write your code in Python 3.6\n",
    "    B = [0] * len(A)\n",
    "    for i in range(len(A)):\n",
    "        B[i] = A[(i - K)]\n",
    "\n",
    "    return B\n",
    "\n",
    "# 62%"
   ]
  },
  {
   "cell_type": "code",
   "execution_count": 295,
   "metadata": {},
   "outputs": [],
   "source": [
    "# second attempt:\n",
    "\n",
    "def solution(A, K):\n",
    "    # write your code in Python 3.6  \n",
    "    if len(A) <= 1:\n",
    "        return A\n",
    "    else:\n",
    "        K\n",
    "    while K > len(A):\n",
    "        K = K - len(A)\n",
    "    B = [0] * len(A)\n",
    "    for i in range(len(A)):\n",
    "        B[i] = A[(i - K)]\n",
    "        \n",
    "    return B\n",
    "\n",
    "# 100%"
   ]
  },
  {
   "cell_type": "markdown",
   "metadata": {},
   "source": [
    "## Odd Occurrences In Array\n",
    "A non-empty array A consisting of N integers is given. The array contains an odd number of elements, and each element of the array can be paired with another element that has the same value, except for one element that is left unpaired. Write a function that returns the value of the unpaired element.\n",
    "\n"
   ]
  },
  {
   "cell_type": "code",
   "execution_count": 217,
   "metadata": {},
   "outputs": [],
   "source": [
    "from collections import Counter\n",
    "A = [9, 3, 9, 3, 9, 7, 9]\n",
    "def solution(A):\n",
    "    counter_ = dict(Counter(A))\n",
    "    dict_with_solution = {k: v for k, v in counter_.items() if v % 2 != 0}\n",
    "    \n",
    "    return max(dict_with_solution.keys())\n",
    "\n",
    "# 100%"
   ]
  },
  {
   "cell_type": "markdown",
   "metadata": {},
   "source": [
    "## SUM\n",
    "You are given an integer n. In O(1) time complexity count the total of 1 + 2 + . . . + n "
   ]
  },
  {
   "cell_type": "code",
   "execution_count": 227,
   "metadata": {},
   "outputs": [],
   "source": [
    "def model_solution(n):\n",
    "    return n * (n + 1) // 2 # Triangular number formula"
   ]
  },
  {
   "cell_type": "code",
   "execution_count": 228,
   "metadata": {},
   "outputs": [
    {
     "data": {
      "text/plain": [
       "21"
      ]
     },
     "execution_count": 228,
     "metadata": {},
     "output_type": "execute_result"
    }
   ],
   "source": [
    "model_solution(6)"
   ]
  },
  {
   "cell_type": "markdown",
   "metadata": {},
   "source": [
    "## Frog Jmp\n",
    "The frog is currently located at position X and wants to get to a position greater than or equal to Y. The small frog always jumps a fixed distance, D.\n",
    "Write a function, that, given three integers X, Y and D, returns the minimal number of jumps from position X to a position equal to or greater than Y."
   ]
  },
  {
   "cell_type": "code",
   "execution_count": 235,
   "metadata": {},
   "outputs": [],
   "source": [
    "def solution(X, Y, D):\n",
    "    if (Y - X) % D > 0:\n",
    "        return ((Y - X) // D) + 1\n",
    "    else:\n",
    "        return (Y - X) // D\n",
    "    \n",
    "# Task Score 100%, Correctness 100%, Performance 100%"
   ]
  },
  {
   "cell_type": "code",
   "execution_count": 236,
   "metadata": {},
   "outputs": [
    {
     "data": {
      "text/plain": [
       "3"
      ]
     },
     "execution_count": 236,
     "metadata": {},
     "output_type": "execute_result"
    }
   ],
   "source": [
    "solution(10, 85, 30)"
   ]
  },
  {
   "cell_type": "markdown",
   "metadata": {},
   "source": [
    "## Perm Missing Elem\n",
    "An array A consisting of N different integers is given. Exactly one element is missing.Your goal is to find that missing element."
   ]
  },
  {
   "cell_type": "code",
   "execution_count": 294,
   "metadata": {},
   "outputs": [],
   "source": [
    "# first attempt\n",
    "def solution(A):\n",
    "    A.sort()\n",
    "    for i,n in enumerate(A):\n",
    "        if (i+1) != n:\n",
    "            return i+1\n",
    "        else:\n",
    "            #return A[-1]\n",
    "            pass\n",
    "        \n",
    "# Task Score 50%, Correctness 20%, Performance 80%"
   ]
  },
  {
   "cell_type": "code",
   "execution_count": 291,
   "metadata": {},
   "outputs": [],
   "source": [
    "# second attempt\n",
    "def solution(A):\n",
    "    max_ = max(A) # mistake was here, because is guaranteed, that 1 val missed, that's why next version got 100%\n",
    "    sum_expected = max_ * (max_ + 1) // 2\n",
    "    sum_real = sum(A)\n",
    "    return sum_expected - sum_real\n",
    "\n",
    "# Task Score 50%, Correctness 20%, Performance 80%"
   ]
  },
  {
   "cell_type": "code",
   "execution_count": 292,
   "metadata": {},
   "outputs": [],
   "source": [
    "# third attempt\n",
    "def solution(A):\n",
    "    max_ = len(A)+1\n",
    "    sum_expected = max_ * (max_ + 1) // 2\n",
    "    return sum_expected - sum(A)\n",
    "\n",
    "# Task Score 100%, Correctness 100%, Performance 100%"
   ]
  },
  {
   "cell_type": "markdown",
   "metadata": {},
   "source": [
    "## Tape Equilibrium\n",
    "A non-empty array A consisting of N integers is given. Array A represents numbers on a tape.\n",
    "Any integer P splits this tape into two non-empty parts: A[0], A[1], ..., A[P − 1] and A[P], A[P + 1], ..., A[N − 1].\n",
    "Find the difference between the two parts"
   ]
  },
  {
   "cell_type": "code",
   "execution_count": 316,
   "metadata": {},
   "outputs": [],
   "source": [
    "# first attempt\n",
    "def solution(A):\n",
    "    p = len(A)\n",
    "    if p == 1:\n",
    "        return A[0]\n",
    "    else:\n",
    "        min_ = list()\n",
    "        for i in range(1, p):\n",
    "            min_.append(abs(sum(A[:i]) - sum(A[i:])))\n",
    "        return min(min_)\n",
    "    \n",
    "# Task Score 53%, Correctness 100%, Performance 0%"
   ]
  },
  {
   "cell_type": "code",
   "execution_count": 323,
   "metadata": {},
   "outputs": [],
   "source": [
    "# second attempt\n",
    "def solution(A):\n",
    "    p = len(A)\n",
    "    if p == 1:\n",
    "        return A[0]\n",
    "    else:\n",
    "        min_ = float('inf')\n",
    "        for i in range(1, p):\n",
    "            if min_ > abs(sum(A[:i]) - sum(A[i:])):\n",
    "                min_ = abs(sum(A[:i]) - sum(A[i:]))\n",
    "        return min_\n",
    "# Task Score 53%, Correctness 100%, Performance 0%   "
   ]
  },
  {
   "cell_type": "code",
   "execution_count": 349,
   "metadata": {},
   "outputs": [],
   "source": [
    "# third attempt\n",
    "from itertools import accumulate\n",
    "\n",
    "\n",
    "def solution(A):\n",
    "    if len(A) == 1:\n",
    "        return A[0]\n",
    "    else:\n",
    "        sum_ = sum(A)\n",
    "        acc_lst = list(accumulate(A[:-1])) \n",
    "        # acc_lst returns accumulated sums. \n",
    "        # including the last element A[-1] doesn't make sense, becuase it's a difference from sum\n",
    "        \n",
    "        return min([abs(x - (sum_ - x)) for x in acc_lst])\n",
    "    \n",
    "# Task Score 100%, Correctness 100%, Performance 100%"
   ]
  },
  {
   "cell_type": "code",
   "execution_count": 350,
   "metadata": {},
   "outputs": [
    {
     "data": {
      "text/plain": [
       "1"
      ]
     },
     "execution_count": 350,
     "metadata": {},
     "output_type": "execute_result"
    }
   ],
   "source": [
    "solution([3, 1, 2, 4, 3])"
   ]
  },
  {
   "cell_type": "markdown",
   "metadata": {},
   "source": [
    "## Frog River One\n",
    "You are given an array A consisting of N integers representing the falling leaves. A[K] represents the position where one leaf falls at time K, measured in seconds.\n",
    "The goal is to find the earliest time when the frog can jump to the other side of the river. The frog can cross only when leaves appear at every position across the river from 1 to X (that is, we want to find the earliest moment when all the positions from 1 to X are covered by leaves). You may assume that the speed of the current in the river is negligibly small, i.e. the leaves do not change their positions once they fall in the river."
   ]
  },
  {
   "cell_type": "code",
   "execution_count": 373,
   "metadata": {},
   "outputs": [],
   "source": [
    "# first attempt\n",
    "\n",
    "def solution(X, A):\n",
    "    if X > len(A):\n",
    "        return -1\n",
    "    elif sum(list(range(1, X))) == sum(set([x for x in A[: X] if x < A.index(X)])):\n",
    "        return A.index(X)\n",
    "    else:\n",
    "        return -1\n",
    "    \n",
    "# Task Score 9%, Correctness 16%, Performance 0% "
   ]
  },
  {
   "cell_type": "code",
   "execution_count": 393,
   "metadata": {},
   "outputs": [],
   "source": [
    "# second attempt\n",
    "\n",
    "def solution(X, A):\n",
    "    leaves_ready = set()\n",
    "    for i, n in enumerate(A):\n",
    "        leaves_ready.add(n)\n",
    "        if len(leaves_ready) == X:\n",
    "            return i\n",
    "    return -1\n",
    "    \n",
    "# Task Score 100%, Correctness 100%, Performance 100%"
   ]
  },
  {
   "cell_type": "code",
   "execution_count": 394,
   "metadata": {},
   "outputs": [
    {
     "data": {
      "text/plain": [
       "6"
      ]
     },
     "execution_count": 394,
     "metadata": {},
     "output_type": "execute_result"
    }
   ],
   "source": [
    "solution(5, [1, 3, 1, 4, 2, 3, 5, 4])"
   ]
  },
  {
   "cell_type": "markdown",
   "metadata": {},
   "source": [
    "## Max Counters\n",
    "\n",
    "You are given N counters, initially set to 0, and you have two possible operations on them:\n",
    "\n",
    "* increase(X) − counter X is increased by 1,\n",
    "* max counter − all counters are set to the maximum value of any counter.\n",
    "\n",
    "A non-empty array A of M integers is given. This array represents consecutive operations:\n",
    "\n",
    "if A[K] = X, such that 1 ≤ X ≤ N, then operation K is increase(X),\n",
    "if A[K] = N + 1 then operation K is max counter.\n",
    "The goal is to calculate the value of every counter after all operations.\n",
    "\n"
   ]
  },
  {
   "cell_type": "code",
   "execution_count": 398,
   "metadata": {},
   "outputs": [],
   "source": [
    "# first attempt\n",
    "\n",
    "def solution(N, A):\n",
    "    goal = [0] * N\n",
    "    for operation in A:\n",
    "        if 1 <= operation <= N:\n",
    "            goal[operation-1] += 1\n",
    "        else:\n",
    "            goal[:] = [max(goal)] * N\n",
    "    return goal\n",
    "\n",
    "# Task Score 66%, Correctness 100%, Performance 40%\n",
    "# could optimaze via lazy evaluation"
   ]
  },
  {
   "cell_type": "code",
   "execution_count": 399,
   "metadata": {},
   "outputs": [
    {
     "data": {
      "text/plain": [
       "[3, 2, 2, 4, 2]"
      ]
     },
     "execution_count": 399,
     "metadata": {},
     "output_type": "execute_result"
    }
   ],
   "source": [
    "solution(5, [3, 4, 4, 6, 1, 4, 4])"
   ]
  },
  {
   "cell_type": "markdown",
   "metadata": {},
   "source": [
    "## Missing Integer\n",
    "\n",
    "Write a function, that, given an array A of N integers, returns the smallest positive integer (greater than 0) that does not occur in A.\n",
    "For example, given A = [1, 3, 6, 4, 1, 2], the function should return 5.\n"
   ]
  },
  {
   "cell_type": "code",
   "execution_count": 403,
   "metadata": {},
   "outputs": [],
   "source": [
    "def solution(A):\n",
    "    extended_data = range(1, len(A) + 2) # to get plus 1 to length od new data\n",
    "    return min(set(extended_data).difference(set(A)))\n",
    "\n",
    "# Task Score 100%, Correctness 100%, Performance 100%"
   ]
  },
  {
   "cell_type": "code",
   "execution_count": 404,
   "metadata": {},
   "outputs": [
    {
     "name": "stdout",
     "output_type": "stream",
     "text": [
      "{1, 2, 3, 4, 6}\n",
      "{1, 2, 3, 4, 5, 6, 7}\n"
     ]
    },
    {
     "data": {
      "text/plain": [
       "5"
      ]
     },
     "execution_count": 404,
     "metadata": {},
     "output_type": "execute_result"
    }
   ],
   "source": [
    "solution([1, 3, 6, 4, 1, 2])"
   ]
  },
  {
   "cell_type": "code",
   "execution_count": 405,
   "metadata": {},
   "outputs": [
    {
     "name": "stdout",
     "output_type": "stream",
     "text": [
      "{-3, -1}\n",
      "{1, 2, 3}\n"
     ]
    },
    {
     "data": {
      "text/plain": [
       "1"
      ]
     },
     "execution_count": 405,
     "metadata": {},
     "output_type": "execute_result"
    }
   ],
   "source": [
    "solution([-1, -3])"
   ]
  },
  {
   "cell_type": "markdown",
   "metadata": {},
   "source": [
    "## PermCheck\n",
    "A non-empty array A consisting of N integers is given.\n",
    "A permutation is a sequence containing each element from 1 to N once, and only once. The goal is to check whether array A is a permutation.\n",
    "Write a function, that returns 1 if array A is a permutation and 0 if it is not."
   ]
  },
  {
   "cell_type": "code",
   "execution_count": 407,
   "metadata": {},
   "outputs": [],
   "source": [
    "def solution(A):\n",
    "    permutation = set(range(1, len(A) + 1))\n",
    "    if set(A) == permutation:\n",
    "        return 1\n",
    "    else:\n",
    "        return 0\n",
    "    \n",
    "# Task Score 100%, Correctness 100%, Performance 100%"
   ]
  },
  {
   "cell_type": "code",
   "execution_count": 408,
   "metadata": {},
   "outputs": [
    {
     "data": {
      "text/plain": [
       "1"
      ]
     },
     "execution_count": 408,
     "metadata": {},
     "output_type": "execute_result"
    }
   ],
   "source": [
    "solution([4, 1, 3, 2])"
   ]
  },
  {
   "cell_type": "code",
   "execution_count": 409,
   "metadata": {},
   "outputs": [
    {
     "data": {
      "text/plain": [
       "0"
      ]
     },
     "execution_count": 409,
     "metadata": {},
     "output_type": "execute_result"
    }
   ],
   "source": [
    "solution([4, 1, 3])"
   ]
  },
  {
   "cell_type": "markdown",
   "metadata": {},
   "source": [
    "## Count Div\n",
    "Write a function, that, given three integers A, B and K, returns the number of integers within the range [A..B] that are divisible by K\n",
    "For example, for A = 6, B = 11 and K = 2, your function should return 3, because there are three numbers divisible by 2 within the range [6..11], namely 6, 8 and 10."
   ]
  },
  {
   "cell_type": "code",
   "execution_count": 420,
   "metadata": {},
   "outputs": [],
   "source": [
    "def solution(A, B, K):\n",
    "    if A % K == 0:\n",
    "        return ((B - A) // K) + 1\n",
    "    else:\n",
    "        return (B - (A - A % K )) // K\n",
    "    \n",
    "# Task Score 100%, Correctness 100%, Performance 100%"
   ]
  },
  {
   "cell_type": "code",
   "execution_count": null,
   "metadata": {},
   "outputs": [],
   "source": []
  }
 ],
 "metadata": {
  "kernelspec": {
   "display_name": "Python 3",
   "language": "python",
   "name": "python3"
  },
  "language_info": {
   "codemirror_mode": {
    "name": "ipython",
    "version": 3
   },
   "file_extension": ".py",
   "mimetype": "text/x-python",
   "name": "python",
   "nbconvert_exporter": "python",
   "pygments_lexer": "ipython3",
   "version": "3.8.6"
  }
 },
 "nbformat": 4,
 "nbformat_minor": 4
}
