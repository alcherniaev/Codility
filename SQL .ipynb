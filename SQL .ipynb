{
 "cells": [
  {
   "cell_type": "markdown",
   "metadata": {},
   "source": [
    "## 262. Trips and Users (Hard)"
   ]
  },
  {
   "cell_type": "code",
   "execution_count": null,
   "metadata": {},
   "outputs": [],
   "source": [
    "Write a SQL query to find the cancellation rate of requests with unbanned users (both client and driver must not be banned) each day between \"2013-10-01\" and \"2013-10-03\".\n",
    "\n",
    "The cancellation rate is computed by dividing the number of canceled (by client or driver) requests with unbanned users by the total number of requests with unbanned users on that day.\n",
    "\n",
    "Return the result table in any order. Round Cancellation Rate to two decimal points.\n",
    "\n",
    "The query result format is in the following example:\n",
    "    \n",
    "    Table: Trips\n",
    "\n",
    "+-------------+----------+\n",
    "| Column Name | Type     |\n",
    "+-------------+----------+\n",
    "| Id          | int      |\n",
    "| Client_Id   | int      |\n",
    "| Driver_Id   | int      |\n",
    "| City_Id     | int      |\n",
    "| Status      | enum     |\n",
    "| Request_at  | date     |     \n",
    "+-------------+----------+\n",
    "\n",
    "Id is the primary key for this table.\n",
    "The table holds all taxi trips. Each trip has a unique Id, while Client_Id and Driver_Id are foreign keys to the Users_Id at the Users table.\n",
    "Status is an ENUM type of (‘completed’, ‘cancelled_by_driver’, ‘cancelled_by_client’).\n",
    "\n",
    "    Table: Users\n",
    "+-------------+----------+\n",
    "| Column Name | Type     |\n",
    "+-------------+----------+\n",
    "| Users_Id    | int      |\n",
    "| Banned      | enum     |\n",
    "| Role        | enum     |\n",
    "+-------------+----------+\n",
    "\n",
    "Users_Id is the primary key for this table.\n",
    "The table holds all users. Each user has a unique Users_Id, and Role is an ENUM type of (‘client’, ‘driver’, ‘partner’).\n",
    "Status is an ENUM type of (‘Yes’, ‘No’).\n"
   ]
  },
  {
   "cell_type": "code",
   "execution_count": 4,
   "metadata": {},
   "outputs": [
    {
     "data": {
      "text/plain": [
       "\"WITH CTE AS (SELECT * FROM trips\\n             WHERE client_id IN (SELECT users_id\\n                                 FROM users \\n                                 WHERE banned = 'No')\\n             AND driver_id IN (SELECT users_id\\n                               FROM users \\n                               WHERE banned = 'No')\\n             AND request_at BETWEEN '2013-10-01' and '2013-10-03')\\n \\n \\n SELECT request_at AS 'Day', \\n        ROUND(CAST(SUM(CASE \\n                    WHEN status = 'completed'\\n                    THEN 0 \\n                    ELSE 1 \\n                  END) AS DECIMAL(18,2)) / \\n              COUNT(*), 2)\\n             AS 'Cancellation Rate'\\n FROM CTE\\n GROUP BY request_at;\""
      ]
     },
     "execution_count": 4,
     "metadata": {},
     "output_type": "execute_result"
    }
   ],
   "source": [
    "'''WITH CTE AS (SELECT * FROM trips\n",
    "             WHERE client_id IN (SELECT users_id\n",
    "                                 FROM users \n",
    "                                 WHERE banned = 'No')\n",
    "             AND driver_id IN (SELECT users_id\n",
    "                               FROM users \n",
    "                               WHERE banned = 'No')\n",
    "             AND request_at BETWEEN '2013-10-01' and '2013-10-03')\n",
    " \n",
    " \n",
    " SELECT request_at AS 'Day', \n",
    "        ROUND(CAST(SUM(CASE \n",
    "                    WHEN status = 'completed'\n",
    "                    THEN 0 \n",
    "                    ELSE 1 \n",
    "                  END) AS DECIMAL(18,2)) / \n",
    "              COUNT(*), 2)\n",
    "             AS 'Cancellation Rate'\n",
    " FROM CTE\n",
    " GROUP BY request_at;'''"
   ]
  },
  {
   "cell_type": "markdown",
   "metadata": {},
   "source": [
    "## 601. Human Traffic of Stadium"
   ]
  },
  {
   "cell_type": "code",
   "execution_count": 4,
   "metadata": {},
   "outputs": [
    {
     "ename": "SyntaxError",
     "evalue": "invalid syntax (<ipython-input-4-efbf3a03c004>, line 1)",
     "output_type": "error",
     "traceback": [
      "\u001b[0;36m  File \u001b[0;32m\"<ipython-input-4-efbf3a03c004>\"\u001b[0;36m, line \u001b[0;32m1\u001b[0m\n\u001b[0;31m    +---------------+---------+\u001b[0m\n\u001b[0m                               ^\u001b[0m\n\u001b[0;31mSyntaxError\u001b[0m\u001b[0;31m:\u001b[0m invalid syntax\n"
     ]
    }
   ],
   "source": [
    "+---------------+---------+\n",
    "| Column Name   | Type    |\n",
    "+---------------+---------+\n",
    "| id            | int     |\n",
    "| visit_date    | date    |\n",
    "| people        | int     |\n",
    "+---------------+---------+\n",
    "visit_date is the primary key for this table.\n",
    "Each row of this table contains the visit date and visit id to the stadium with the number of people during the visit.\n",
    "No two rows will have the same visit_date, and as the id increases, the dates increase as well.\n",
    " \n",
    "\n",
    "Write an SQL query to display the records with three or more rows with consecutive id's, and the number of people is greater than or equal to 100 for each.\n",
    "\n",
    "Return the result table ordered by visit_date in ascending order.\n",
    "\n",
    "The query result format is in the following example.\n",
    "\n",
    " \n",
    "\n",
    "Stadium table:\n",
    "+------+------------+-----------+\n",
    "| id   | visit_date | people    |\n",
    "+------+------------+-----------+\n",
    "| 1    | 2017-01-01 | 10        |\n",
    "| 2    | 2017-01-02 | 109       |\n",
    "| 3    | 2017-01-03 | 150       |\n",
    "| 4    | 2017-01-04 | 99        |\n",
    "| 5    | 2017-01-05 | 145       |\n",
    "| 6    | 2017-01-06 | 1455      |\n",
    "| 7    | 2017-01-07 | 199       |\n",
    "| 8    | 2017-01-09 | 188       |\n",
    "+------+------------+-----------+\n",
    "\n",
    "Result table:\n",
    "+------+------------+-----------+\n",
    "| id   | visit_date | people    |\n",
    "+------+------------+-----------+\n",
    "| 5    | 2017-01-05 | 145       |\n",
    "| 6    | 2017-01-06 | 1455      |\n",
    "| 7    | 2017-01-07 | 199       |\n",
    "| 8    | 2017-01-09 | 188       |\n",
    "+------+------------+-----------+\n",
    "The four rows with ids 5, 6, 7, and 8 have consecutive ids and each of them has >= 100 people attended. Note that row 8 was included even though the visit_date was not the next day after row 7.\n",
    "The rows with ids 2 and 3 are not included because we need at least three consecutive ids."
   ]
  },
  {
   "cell_type": "code",
   "execution_count": 3,
   "metadata": {},
   "outputs": [
    {
     "data": {
      "text/plain": [
       "'WITH CTE1 AS (\\n    SELECT \\n        (id - RANK() OVER (ORDER BY id)) as [pointer],\\n        id,\\n        visit_date,\\n        people\\n    FROM Stadium\\n    WHERE people > 99\\n),\\n    CTE2 AS (\\n    SELECT \\n        COUNT(id) OVER (PARTITION BY [pointer]) as [three_or_more],\\n        id,\\n        visit_date,\\n        people\\n    FROM CTE1\\n)\\n\\nSELECT\\n    id, visit_date, people\\nFROM CTE2 WHERE [three_or_more] > 2'"
      ]
     },
     "execution_count": 3,
     "metadata": {},
     "output_type": "execute_result"
    }
   ],
   "source": [
    "# Write your T-SQL query statement below\n",
    "\n",
    "\"\"\"WITH CTE1 AS (\n",
    "    SELECT \n",
    "        (id - RANK() OVER (ORDER BY id)) as [pointer], -- same number for consecutive ids\n",
    "        id,\n",
    "        visit_date,\n",
    "        people\n",
    "    FROM Stadium\n",
    "    WHERE people > 99\n",
    "),\n",
    "    CTE2 AS (\n",
    "    SELECT \n",
    "        COUNT(id) OVER (PARTITION BY [pointer]) as [three_or_more], -- count number of consecutive ids\n",
    "        id,\n",
    "        visit_date,\n",
    "        people\n",
    "    FROM CTE1\n",
    ")\n",
    "\n",
    "SELECT\n",
    "    id, visit_date, people\n",
    "FROM CTE2 WHERE [three_or_more] > 2\"\"\""
   ]
  },
  {
   "cell_type": "markdown",
   "metadata": {},
   "source": [
    "## 185. Department Top Three Salaries"
   ]
  },
  {
   "cell_type": "code",
   "execution_count": null,
   "metadata": {},
   "outputs": [],
   "source": [
    "The Employee table holds all employees. Every employee has an Id, and there is also a column for the department Id.\n",
    "\n",
    "+----+-------+--------+--------------+\n",
    "| Id | Name  | Salary | DepartmentId |\n",
    "+----+-------+--------+--------------+\n",
    "| 1  | Joe   | 85000  | 1            |\n",
    "| 2  | Henry | 80000  | 2            |\n",
    "| 3  | Sam   | 60000  | 2            |\n",
    "| 4  | Max   | 90000  | 1            |\n",
    "| 5  | Janet | 69000  | 1            |\n",
    "| 6  | Randy | 85000  | 1            |\n",
    "| 7  | Will  | 70000  | 1            |\n",
    "+----+-------+--------+--------------+\n",
    "The Department table holds all departments of the company.\n",
    "\n",
    "+----+----------+\n",
    "| Id | Name     |\n",
    "+----+----------+\n",
    "| 1  | IT       |\n",
    "| 2  | Sales    |\n",
    "+----+----------+\n",
    "Write a SQL query to find employees who earn the top three salaries in each of the department. For the above tables, your SQL query should return the following rows (order of rows does not matter).\n",
    "\n",
    "+------------+----------+--------+\n",
    "| Department | Employee | Salary |\n",
    "+------------+----------+--------+\n",
    "| IT         | Max      | 90000  |\n",
    "| IT         | Randy    | 85000  |\n",
    "| IT         | Joe      | 85000  |\n",
    "| IT         | Will     | 70000  |\n",
    "| Sales      | Henry    | 80000  |\n",
    "| Sales      | Sam      | 60000  |\n",
    "+------------+----------+--------+\n",
    "Explanation:\n",
    "\n",
    "In IT department, Max earns the highest salary, both Randy and Joe earn the second highest salary, and Will earns the third highest salary. There are only two employees in the Sales department, Henry earns the highest salary while Sam earns the second highest salary.\n",
    "\n"
   ]
  },
  {
   "cell_type": "code",
   "execution_count": null,
   "metadata": {},
   "outputs": [],
   "source": []
  }
 ],
 "metadata": {
  "kernelspec": {
   "display_name": "Python 3",
   "language": "python",
   "name": "python3"
  },
  "language_info": {
   "codemirror_mode": {
    "name": "ipython",
    "version": 3
   },
   "file_extension": ".py",
   "mimetype": "text/x-python",
   "name": "python",
   "nbconvert_exporter": "python",
   "pygments_lexer": "ipython3",
   "version": "3.8.6"
  }
 },
 "nbformat": 4,
 "nbformat_minor": 4
}
