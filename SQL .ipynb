{
 "cells": [
  {
   "cell_type": "markdown",
   "metadata": {},
   "source": [
    "## 262. Trips and Users (Hard)"
   ]
  },
  {
   "cell_type": "raw",
   "metadata": {},
   "source": [
    "Write a SQL query to find the cancellation rate of requests with unbanned users (both client and driver must not be banned) each day between \"2013-10-01\" and \"2013-10-03\".\n",
    "\n",
    "The cancellation rate is computed by dividing the number of canceled (by client or driver) requests with unbanned users by the total number of requests with unbanned users on that day.\n",
    "\n",
    "Return the result table in any order. Round Cancellation Rate to two decimal points.\n",
    "\n",
    "The query result format is in the following example:\n",
    "    \n",
    "    Table: Trips\n",
    "\n",
    "+-------------+----------+\n",
    "| Column Name | Type     |\n",
    "+-------------+----------+\n",
    "| Id          | int      |\n",
    "| Client_Id   | int      |\n",
    "| Driver_Id   | int      |\n",
    "| City_Id     | int      |\n",
    "| Status      | enum     |\n",
    "| Request_at  | date     |     \n",
    "+-------------+----------+\n",
    "\n",
    "Id is the primary key for this table.\n",
    "The table holds all taxi trips. Each trip has a unique Id, while Client_Id and Driver_Id are foreign keys to the Users_Id at the Users table.\n",
    "Status is an ENUM type of (‘completed’, ‘cancelled_by_driver’, ‘cancelled_by_client’).\n",
    "\n",
    "    Table: Users\n",
    "+-------------+----------+\n",
    "| Column Name | Type     |\n",
    "+-------------+----------+\n",
    "| Users_Id    | int      |\n",
    "| Banned      | enum     |\n",
    "| Role        | enum     |\n",
    "+-------------+----------+\n",
    "\n",
    "Users_Id is the primary key for this table.\n",
    "The table holds all users. Each user has a unique Users_Id, and Role is an ENUM type of (‘client’, ‘driver’, ‘partner’).\n",
    "Status is an ENUM type of (‘Yes’, ‘No’).\n"
   ]
  },
  {
   "cell_type": "code",
   "execution_count": 4,
   "metadata": {},
   "outputs": [
    {
     "data": {
      "text/plain": [
       "\"WITH CTE AS (SELECT * FROM trips\\n             WHERE client_id IN (SELECT users_id\\n                                 FROM users \\n                                 WHERE banned = 'No')\\n             AND driver_id IN (SELECT users_id\\n                               FROM users \\n                               WHERE banned = 'No')\\n             AND request_at BETWEEN '2013-10-01' and '2013-10-03')\\n \\n \\n SELECT request_at AS 'Day', \\n        ROUND(CAST(SUM(CASE \\n                    WHEN status = 'completed'\\n                    THEN 0 \\n                    ELSE 1 \\n                  END) AS DECIMAL(18,2)) / \\n              COUNT(*), 2)\\n             AS 'Cancellation Rate'\\n FROM CTE\\n GROUP BY request_at;\""
      ]
     },
     "execution_count": 4,
     "metadata": {},
     "output_type": "execute_result"
    }
   ],
   "source": [
    "'''WITH CTE AS (SELECT * FROM trips\n",
    "             WHERE client_id IN (SELECT users_id\n",
    "                                 FROM users \n",
    "                                 WHERE banned = 'No')\n",
    "             AND driver_id IN (SELECT users_id\n",
    "                               FROM users \n",
    "                               WHERE banned = 'No')\n",
    "             AND request_at BETWEEN '2013-10-01' and '2013-10-03')\n",
    " \n",
    " \n",
    " SELECT request_at AS 'Day', \n",
    "        ROUND(CAST(SUM(CASE \n",
    "                    WHEN status = 'completed'\n",
    "                    THEN 0 \n",
    "                    ELSE 1 \n",
    "                  END) AS DECIMAL(18,2)) / \n",
    "              COUNT(*), 2)\n",
    "             AS 'Cancellation Rate'\n",
    " FROM CTE\n",
    " GROUP BY request_at;'''"
   ]
  },
  {
   "cell_type": "code",
   "execution_count": null,
   "metadata": {},
   "outputs": [],
   "source": []
  },
  {
   "cell_type": "raw",
   "metadata": {},
   "source": [
    "/* Write your T-SQL query statement below */\n",
    "\n",
    "WITH CTE1 AS (\n",
    "    SELECT \n",
    "        (id - RANK() OVER (ORDER BY id)) as [pointer],\n",
    "        id,\n",
    "        visit_date,\n",
    "        people\n",
    "    FROM Stadium\n",
    "    WHERE people > 99\n",
    "),\n",
    "    CTE2 AS (\n",
    "    SELECT \n",
    "        COUNT(id) OVER (PARTITION BY [pointer]) as [three_or_more],\n",
    "        id,\n",
    "        visit_date,\n",
    "        people\n",
    "    FROM CTE1\n",
    ")\n",
    "\n",
    "SELECT\n",
    "    id, visit_date, people\n",
    "FROM CTE2 WHERE [three_or_more] > 2"
   ]
  },
  {
   "cell_type": "code",
   "execution_count": null,
   "metadata": {},
   "outputs": [],
   "source": []
  }
 ],
 "metadata": {
  "kernelspec": {
   "display_name": "Python 3",
   "language": "python",
   "name": "python3"
  },
  "language_info": {
   "codemirror_mode": {
    "name": "ipython",
    "version": 3
   },
   "file_extension": ".py",
   "mimetype": "text/x-python",
   "name": "python",
   "nbconvert_exporter": "python",
   "pygments_lexer": "ipython3",
   "version": "3.8.6"
  }
 },
 "nbformat": 4,
 "nbformat_minor": 4
}
