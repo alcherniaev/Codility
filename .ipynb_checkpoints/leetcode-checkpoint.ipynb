{
 "cells": [
  {
   "cell_type": "markdown",
   "metadata": {},
   "source": [
    "## 1108. Defanging an IP Address\n",
    "\n",
    "Given a valid (IPv4) IP address, return a defanged version of that IP address.\n",
    "A defanged IP address replaces every period \".\" with \"[.]\".\n",
    "Example 1:\n",
    "* Input: address = \"1.1.1.1\"\n",
    "* Output: \"1[.]1[.]1[.]1\"\n",
    "Example 2:\n",
    "* Input: address = \"255.100.50.0\"\n",
    "* Output: \"255[.]100[.]50[.]0\""
   ]
  },
  {
   "cell_type": "code",
   "execution_count": 10,
   "metadata": {},
   "outputs": [],
   "source": [
    "def defangIPaddr(self, address: str) -> str:\n",
    "    return  '[.]'.join(address.split('.'))"
   ]
  },
  {
   "cell_type": "markdown",
   "metadata": {},
   "source": [
    "## 1480. Running Sum of 1d Array\n",
    "\n",
    "Given an array nums. We define a running sum of an array as runningSum[i] = sum(nums[0]…nums[i]).\n",
    "Return the running sum of nums.\n",
    "\n",
    "Example 1:\n",
    "\n",
    "* Input: nums = [1,2,3,4]\n",
    "* Output: [1,3,6,10]\n",
    "Explanation: Running sum is obtained as follows: [1, 1+2, 1+2+3, 1+2+3+4].\n",
    "\n",
    "Example 2:\n",
    "\n",
    "* Input: nums = [1,1,1,1,1]\n",
    "* Output: [1,2,3,4,5]\n",
    "Explanation: Running sum is obtained as follows: [1, 1+1, 1+1+1, 1+1+1+1, 1+1+1+1+1].\n",
    "\n",
    "Example 3:\n",
    "\n",
    "* Input: nums = [3,1,2,10,1]\n",
    "* Output: [3,4,6,16,17]"
   ]
  },
  {
   "cell_type": "code",
   "execution_count": 16,
   "metadata": {},
   "outputs": [],
   "source": [
    "from itertools import accumulate\n",
    "\n",
    "def runningSum(nums):\n",
    "    return accumulate(nums)"
   ]
  },
  {
   "cell_type": "markdown",
   "metadata": {},
   "source": [
    "## 1431. Kids With the Greatest Number of Candies\n",
    "\n",
    "Given the array candies and the integer extraCandies, where candies[i] represents the number of candies that the ith kid has.\n",
    "For each kid check if there is a way to distribute extraCandies among the kids such that he or she can have the greatest number of candies among them. Notice that multiple kids can have the greatest number of candies.\n",
    "\n",
    "Example 1:\n",
    "\n",
    "* Input: candies = [2,3,5,1,3], extraCandies = 3\n",
    "* Output: [true,true,true,false,true] \n",
    "\n",
    "Explanation: \n",
    "* Kid 1 has 2 candies and if he or she receives all extra candies (3) will have 5 candies --- the greatest number of candies among the kids. \n",
    "* Kid 2 has 3 candies and if he or she receives at least 2 extra candies will have the greatest number of candies among the kids. \n",
    "* Kid 3 has 5 candies and this is already the greatest number of candies among the kids. \n",
    "* Kid 4 has 1 candy and even if he or she receives all extra candies will only have 4 candies. \n",
    "* Kid 5 has 3 candies and if he or she receives at least 2 extra candies will have the greatest number of candies among the kids. \n"
   ]
  },
  {
   "cell_type": "code",
   "execution_count": 35,
   "metadata": {},
   "outputs": [],
   "source": [
    "def kidsWithCandies(candies, extraCandies):\n",
    "    max_ = max(candies) - extraCandies\n",
    "    return [x >= max_ for x in candies]"
   ]
  },
  {
   "cell_type": "code",
   "execution_count": 37,
   "metadata": {},
   "outputs": [
    {
     "data": {
      "text/plain": [
       "[True, False, False, False, False]"
      ]
     },
     "execution_count": 37,
     "metadata": {},
     "output_type": "execute_result"
    }
   ],
   "source": [
    "kidsWithCandies(candies = [4,2,1,1,2], extraCandies = 1)"
   ]
  },
  {
   "cell_type": "code",
   "execution_count": null,
   "metadata": {},
   "outputs": [],
   "source": []
  }
 ],
 "metadata": {
  "kernelspec": {
   "display_name": "Python 3",
   "language": "python",
   "name": "python3"
  },
  "language_info": {
   "codemirror_mode": {
    "name": "ipython",
    "version": 3
   },
   "file_extension": ".py",
   "mimetype": "text/x-python",
   "name": "python",
   "nbconvert_exporter": "python",
   "pygments_lexer": "ipython3",
   "version": "3.8.6"
  }
 },
 "nbformat": 4,
 "nbformat_minor": 4
}
