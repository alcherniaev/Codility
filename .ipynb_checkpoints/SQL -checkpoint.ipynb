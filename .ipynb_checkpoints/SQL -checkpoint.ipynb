{
 "cells": [
  {
   "cell_type": "raw",
   "metadata": {},
   "source": [
    "WITH CTE AS (SELECT * FROM trips\n",
    "             WHERE client_id IN (SELECT users_id\n",
    "                                 FROM users \n",
    "                                 WHERE banned = 'No')\n",
    "             AND driver_id IN (SELECT users_id\n",
    "                               FROM users \n",
    "                               WHERE banned = 'No')\n",
    "             AND request_at BETWEEN '2013-10-01' and '2013-10-03')\n",
    " \n",
    " \n",
    " SELECT request_at AS 'Day', \n",
    "        ROUND(CAST(SUM(CASE \n",
    "                    WHEN status = 'completed'\n",
    "                    THEN 0 \n",
    "                    ELSE 1 \n",
    "                  END) AS DECIMAL(18,2)) / \n",
    "              COUNT(*), 2)\n",
    "             AS 'Cancellation Rate'\n",
    " FROM CTE\n",
    " GROUP BY request_at;"
   ]
  },
  {
   "cell_type": "code",
   "execution_count": null,
   "metadata": {},
   "outputs": [],
   "source": []
  }
 ],
 "metadata": {
  "kernelspec": {
   "display_name": "Python 3",
   "language": "python",
   "name": "python3"
  },
  "language_info": {
   "codemirror_mode": {
    "name": "ipython",
    "version": 3
   },
   "file_extension": ".py",
   "mimetype": "text/x-python",
   "name": "python",
   "nbconvert_exporter": "python",
   "pygments_lexer": "ipython3",
   "version": "3.8.6"
  }
 },
 "nbformat": 4,
 "nbformat_minor": 4
}
