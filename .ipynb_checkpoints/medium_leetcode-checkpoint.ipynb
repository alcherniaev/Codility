{
 "cells": [
  {
   "cell_type": "markdown",
   "metadata": {},
   "source": [
    "## 1769. Minimum Number of Operations to Move All Balls to Each Box\n",
    "\n",
    "You have n boxes. You are given a binary string boxes of length n, where boxes[i] is '0' if the ith box is empty, and '1' if it contains one ball.\n",
    "In one operation, you can move one ball from a box to an adjacent box. Box i is adjacent to box j if abs(i - j) == 1. Note that after doing so, there may be more than one ball in some boxes.\n",
    "Return an array answer of size n, where answer[i] is the minimum number of operations needed to move all the balls to the ith box.\n",
    "Each answer[i] is calculated considering the initial state of the boxes.\n",
    " \n",
    "\n",
    "Example 1:\n",
    "\n",
    "Input: boxes = \"110\"\n",
    "\n",
    "Output: [1,1,3]\n",
    "\n",
    "Explanation: The answer for each box is as follows:\n",
    "\n",
    "1) First box: you will have to move one ball from the second box to the first box in one operation.\n",
    "2) Second box: you will have to move one ball from the first box to the second box in one operation.\n",
    "3) Third box: you will have to move one ball from the first box to the third box in two operations, and move one ball from the second box to the third box in one operation."
   ]
  },
  {
   "cell_type": "code",
   "execution_count": 11,
   "metadata": {},
   "outputs": [],
   "source": [
    "# faster than 100% of Python submissions\n",
    "\n",
    "def minOperations(boxes):\n",
    "    acc = []\n",
    "    for i,n in enumerate(boxes):\n",
    "        if n == '1':\n",
    "          acc.append(i)\n",
    "    output_ = []\n",
    "    for i in range(len(boxes)):\n",
    "        output_.append(sum(abs(i-index) for index in acc))\n",
    "    return output_\n",
    "        \n"
   ]
  },
  {
   "cell_type": "code",
   "execution_count": 12,
   "metadata": {},
   "outputs": [
    {
     "data": {
      "text/plain": [
       "[1, 1, 3]"
      ]
     },
     "execution_count": 12,
     "metadata": {},
     "output_type": "execute_result"
    }
   ],
   "source": [
    "minOperations(\"110\")"
   ]
  },
  {
   "cell_type": "code",
   "execution_count": 13,
   "metadata": {},
   "outputs": [
    {
     "data": {
      "text/plain": [
       "[11, 8, 5, 4, 3, 4]"
      ]
     },
     "execution_count": 13,
     "metadata": {},
     "output_type": "execute_result"
    }
   ],
   "source": [
    "minOperations(\"001011\")"
   ]
  },
  {
   "cell_type": "markdown",
   "metadata": {},
   "source": [
    "## 1476. Subrectangle Queries\n",
    "\n",
    "Implement the class SubrectangleQueries which receives a rows x cols rectangle as a matrix of integers in the constructor and supports two methods:\n",
    "\n",
    "1. updateSubrectangle(int row1, int col1, int row2, int col2, int newValue)\n",
    "\n",
    "Updates all values with newValue in the subrectangle whose upper left coordinate is (row1,col1) and bottom right coordinate is (row2,col2).\n",
    "2. getValue(int row, int col)\n",
    "\n",
    "Returns the current value of the coordinate (row,col) from the rectangle.\n",
    " \n",
    "\n",
    "Example 1:\n",
    "\n",
    "\n",
    "Input\n",
    "\n",
    "[\"SubrectangleQueries\",\"getValue\",\"updateSubrectangle\",\"getValue\",\"getValue\",\"updateSubrectangle\",\"getValue\",\"getValue\"]\n",
    "[[[[1,2,1],[4,3,4],[3,2,1],[1,1,1]]],[0,2],[0,0,3,2,5],[0,2],[3,1],[3,0,3,2,10],[3,1],[0,2]]\n",
    "\n",
    "Output\n",
    "\n",
    "\n",
    "[null,1,null,5,5,null,10,5]\n",
    "\n",
    "Explanation\n",
    "\n",
    "SubrectangleQueries subrectangleQueries = new SubrectangleQueries([[1,2,1],[4,3,4],[3,2,1],[1,1,1]]);  \n",
    "// The initial rectangle (4x3) looks like:\n",
    "// 1 2 1\n",
    "// 4 3 4\n",
    "// 3 2 1\n",
    "// 1 1 1\n",
    "subrectangleQueries.getValue(0, 2); // return 1\n",
    "subrectangleQueries.updateSubrectangle(0, 0, 3, 2, 5);\n",
    "// After this update the rectangle looks like:\n",
    "// 5 5 5\n",
    "// 5 5 5\n",
    "// 5 5 5\n",
    "// 5 5 5 \n",
    "subrectangleQueries.getValue(0, 2); // return 5\n",
    "subrectangleQueries.getValue(3, 1); // return 5\n",
    "subrectangleQueries.updateSubrectangle(3, 0, 3, 2, 10);\n",
    "// After this update the rectangle looks like:\n",
    "// 5   5   5\n",
    "// 5   5   5\n",
    "// 5   5   5\n",
    "// 10  10  10 \n",
    "subrectangleQueries.getValue(3, 1); // return 10\n",
    "subrectangleQueries.getValue(0, 2); // return 5"
   ]
  },
  {
   "cell_type": "code",
   "execution_count": 4,
   "metadata": {},
   "outputs": [],
   "source": [
    "# may be improved by dict\n",
    "class SubrectangleQueries:\n",
    "\n",
    "    def __init__(self, rectangle):\n",
    "        self.rectangle = rectangle\n",
    "\n",
    "    def updateSubrectangle(self, row1, col1, row2, col2, newValue):\n",
    "        for i in range(row1, row2+1):\n",
    "            for j in range (col1, col2+1):\n",
    "                self.rectangle[i][j] = newValue\n",
    "\n",
    "    def getValue(self, row, col):\n",
    "        return self.rectangle[row][col]"
   ]
  },
  {
   "cell_type": "markdown",
   "metadata": {},
   "source": [
    "## 1689. Partitioning Into Minimum Number Of Deci-Binary Numbers\n",
    "\n",
    "Share\n",
    "A decimal number is called deci-binary if each of its digits is either 0 or 1 without any leading zeros. For example, 101 and 1100 are deci-binary, while 112 and 3001 are not.\n",
    "\n",
    "Given a string n that represents a positive decimal integer, return the minimum number of positive deci-binary numbers needed so that they sum up to n.\n",
    "\n",
    "Example 1:\n",
    "\n",
    "Input: n = \"32\"\n",
    "Output: 3\n",
    "Explanation: 10 + 11 + 11 = 32"
   ]
  },
  {
   "cell_type": "code",
   "execution_count": 15,
   "metadata": {},
   "outputs": [],
   "source": [
    "# As to sum up deci-binary numbers to a given value n \n",
    "# we need to only look for the maxm integer in the string \n",
    "# as only that number will determine the number of minimum \n",
    "# one's needed to make that string and rest all digits can be adjusted accordingly\n",
    "\n",
    "def minPartitions(n: str) -> int:\n",
    "    max_ = 0\n",
    "    for i in list(set(n)):\n",
    "        if int(i) > max_:\n",
    "            max_ = int(i)\n",
    "    return max_"
   ]
  },
  {
   "cell_type": "code",
   "execution_count": 16,
   "metadata": {},
   "outputs": [
    {
     "data": {
      "text/plain": [
       "7"
      ]
     },
     "execution_count": 16,
     "metadata": {},
     "output_type": "execute_result"
    }
   ],
   "source": [
    "minPartitions(\"11177111171\")"
   ]
  },
  {
   "cell_type": "code",
   "execution_count": null,
   "metadata": {},
   "outputs": [],
   "source": []
  }
 ],
 "metadata": {
  "kernelspec": {
   "display_name": "Python 3",
   "language": "python",
   "name": "python3"
  },
  "language_info": {
   "codemirror_mode": {
    "name": "ipython",
    "version": 3
   },
   "file_extension": ".py",
   "mimetype": "text/x-python",
   "name": "python",
   "nbconvert_exporter": "python",
   "pygments_lexer": "ipython3",
   "version": "3.8.6"
  }
 },
 "nbformat": 4,
 "nbformat_minor": 4
}
